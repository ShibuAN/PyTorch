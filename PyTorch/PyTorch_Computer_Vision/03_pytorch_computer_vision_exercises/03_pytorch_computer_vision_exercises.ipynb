{
 "cells": [
  {
   "cell_type": "markdown",
   "id": "6fdb96ec-29dc-42fd-aecd-5741267c7aae",
   "metadata": {},
   "source": [
    "# 03. PyTorch Computer Vision Exercise Solutions"
   ]
  },
  {
   "cell_type": "code",
   "execution_count": 3,
   "id": "4f1cd31f-fe58-4e3c-9c12-0e7794d8e292",
   "metadata": {},
   "outputs": [
    {
     "name": "stdout",
     "output_type": "stream",
     "text": [
      "Fri Jun 14 19:19:32 2024       \n",
      "+---------------------------------------------------------------------------------------+\n",
      "| NVIDIA-SMI 538.46                 Driver Version: 538.46       CUDA Version: 12.2     |\n",
      "|-----------------------------------------+----------------------+----------------------+\n",
      "| GPU  Name                     TCC/WDDM  | Bus-Id        Disp.A | Volatile Uncorr. ECC |\n",
      "| Fan  Temp   Perf          Pwr:Usage/Cap |         Memory-Usage | GPU-Util  Compute M. |\n",
      "|                                         |                      |               MIG M. |\n",
      "|=========================================+======================+======================|\n",
      "|   0  NVIDIA A40                   TCC   | 00000000:51:00.0 Off |                    0 |\n",
      "|  0%   29C    P8              12W / 300W |      0MiB / 46068MiB |      0%      Default |\n",
      "|                                         |                      |                  N/A |\n",
      "+-----------------------------------------+----------------------+----------------------+\n",
      "|   1  NVIDIA A40                   TCC   | 00000000:8A:00.0 Off |                    0 |\n",
      "|  0%   26C    P8              12W / 300W |      0MiB / 46068MiB |      0%      Default |\n",
      "|                                         |                      |                  N/A |\n",
      "+-----------------------------------------+----------------------+----------------------+\n",
      "                                                                                         \n",
      "+---------------------------------------------------------------------------------------+\n",
      "| Processes:                                                                            |\n",
      "|  GPU   GI   CI        PID   Type   Process name                            GPU Memory |\n",
      "|        ID   ID                                                             Usage      |\n",
      "|=======================================================================================|\n",
      "|  No running processes found                                                           |\n",
      "+---------------------------------------------------------------------------------------+\n"
     ]
    }
   ],
   "source": [
    "!nvidia-smi"
   ]
  },
  {
   "cell_type": "code",
   "execution_count": 4,
   "id": "518f98cd-7e60-470b-a345-0cf2bbe1f8fd",
   "metadata": {},
   "outputs": [
    {
     "data": {
      "text/plain": [
       "device(type='cuda', index=0)"
      ]
     },
     "execution_count": 4,
     "metadata": {},
     "output_type": "execute_result"
    }
   ],
   "source": [
    "# Create a device agnostic code\n",
    "import torch\n",
    "device=\"cuda\" if torch.cuda.is_available() else \"cpu\"\n",
    "device=torch.device(\"cuda:0\")\n",
    "device"
   ]
  },
  {
   "cell_type": "markdown",
   "id": "84eda0f2-bf55-49ee-be37-fe179c98af6f",
   "metadata": {},
   "source": [
    "## 5. Load the torchvision.datasets.MNIST() train and test datasets."
   ]
  },
  {
   "cell_type": "code",
   "execution_count": 5,
   "id": "791446e8-b6a1-4c76-b235-6701577dc46d",
   "metadata": {},
   "outputs": [
    {
     "data": {
      "text/plain": [
       "(Dataset MNIST\n",
       "     Number of datapoints: 60000\n",
       "     Root location: data\n",
       "     Split: Train\n",
       "     StandardTransform\n",
       " Transform: ToTensor(),\n",
       " Dataset MNIST\n",
       "     Number of datapoints: 10000\n",
       "     Root location: data\n",
       "     Split: Test\n",
       "     StandardTransform\n",
       " Transform: ToTensor())"
      ]
     },
     "execution_count": 5,
     "metadata": {},
     "output_type": "execute_result"
    }
   ],
   "source": [
    "import torchvision\n",
    "from torchvision.datasets import MNIST\n",
    "from torchvision import transforms\n",
    "\n",
    "# Get the train data\n",
    "train_data=MNIST(root=\"data\",\n",
    "                train=True,\n",
    "                download=True,\n",
    "                transform=transforms.ToTensor(),\n",
    "                target_transform=None)\n",
    "\n",
    "# Get the test data\n",
    "test_data=MNIST(root=\"data\",\n",
    "                train=False,\n",
    "                download=True,\n",
    "                transform=transforms.ToTensor(),\n",
    "                target_transform=None)\n",
    "\n",
    "train_data,test_data"
   ]
  },
  {
   "cell_type": "code",
   "execution_count": 6,
   "id": "a55ad0b2-b871-4223-b296-f8c3e2571613",
   "metadata": {},
   "outputs": [
    {
     "data": {
      "text/plain": [
       "(60000, 10000)"
      ]
     },
     "execution_count": 6,
     "metadata": {},
     "output_type": "execute_result"
    }
   ],
   "source": [
    "len(train_data),len(test_data)"
   ]
  },
  {
   "cell_type": "code",
   "execution_count": 7,
   "id": "98bcfda4-c687-4e4a-a729-53d6f60e5644",
   "metadata": {},
   "outputs": [
    {
     "name": "stdout",
     "output_type": "stream",
     "text": [
      "Image shape: torch.Size([1, 28, 28]) -> [color_channels,height,weight]\n",
      "Labels shape: 5 -> no shape, due to being integer\n"
     ]
    }
   ],
   "source": [
    "# Data is in tuple form (image,label)\n",
    "image,label=train_data[0][0],train_data[0][1]\n",
    "print(f\"Image shape: {image.shape} -> [color_channels,height,weight]\")\n",
    "print(f\"Labels shape: {label} -> no shape, due to being integer\")"
   ]
  },
  {
   "cell_type": "code",
   "execution_count": 8,
   "id": "668ac30e-ebbb-4732-bcb4-33f4aa956775",
   "metadata": {},
   "outputs": [
    {
     "data": {
      "text/plain": [
       "(tensor([[[0.0000, 0.0000, 0.0000, 0.0000, 0.0000, 0.0000, 0.0000, 0.0000,\n",
       "           0.0000, 0.0000, 0.0000, 0.0000, 0.0000, 0.0000, 0.0000, 0.0000,\n",
       "           0.0000, 0.0000, 0.0000, 0.0000, 0.0000, 0.0000, 0.0000, 0.0000,\n",
       "           0.0000, 0.0000, 0.0000, 0.0000],\n",
       "          [0.0000, 0.0000, 0.0000, 0.0000, 0.0000, 0.0000, 0.0000, 0.0000,\n",
       "           0.0000, 0.0000, 0.0000, 0.0000, 0.0000, 0.0000, 0.0000, 0.0000,\n",
       "           0.0000, 0.0000, 0.0000, 0.0000, 0.0000, 0.0000, 0.0000, 0.0000,\n",
       "           0.0000, 0.0000, 0.0000, 0.0000],\n",
       "          [0.0000, 0.0000, 0.0000, 0.0000, 0.0000, 0.0000, 0.0000, 0.0000,\n",
       "           0.0000, 0.0000, 0.0000, 0.0000, 0.0000, 0.0000, 0.0000, 0.0000,\n",
       "           0.0000, 0.0000, 0.0000, 0.0000, 0.0000, 0.0000, 0.0000, 0.0000,\n",
       "           0.0000, 0.0000, 0.0000, 0.0000],\n",
       "          [0.0000, 0.0000, 0.0000, 0.0000, 0.0000, 0.0000, 0.0000, 0.0000,\n",
       "           0.0000, 0.0000, 0.0000, 0.0000, 0.0000, 0.0000, 0.0000, 0.0000,\n",
       "           0.0000, 0.0000, 0.0000, 0.0000, 0.0000, 0.0000, 0.0000, 0.0000,\n",
       "           0.0000, 0.0000, 0.0000, 0.0000],\n",
       "          [0.0000, 0.0000, 0.0000, 0.0000, 0.0000, 0.0000, 0.0000, 0.0000,\n",
       "           0.0000, 0.0000, 0.0000, 0.0000, 0.0000, 0.0000, 0.0000, 0.0000,\n",
       "           0.0000, 0.0000, 0.0000, 0.0000, 0.0000, 0.0000, 0.0000, 0.0000,\n",
       "           0.0000, 0.0000, 0.0000, 0.0000],\n",
       "          [0.0000, 0.0000, 0.0000, 0.0000, 0.0000, 0.0000, 0.0000, 0.0000,\n",
       "           0.0000, 0.0000, 0.0000, 0.0000, 0.0118, 0.0706, 0.0706, 0.0706,\n",
       "           0.4941, 0.5333, 0.6863, 0.1020, 0.6510, 1.0000, 0.9686, 0.4980,\n",
       "           0.0000, 0.0000, 0.0000, 0.0000],\n",
       "          [0.0000, 0.0000, 0.0000, 0.0000, 0.0000, 0.0000, 0.0000, 0.0000,\n",
       "           0.1176, 0.1412, 0.3686, 0.6039, 0.6667, 0.9922, 0.9922, 0.9922,\n",
       "           0.9922, 0.9922, 0.8824, 0.6745, 0.9922, 0.9490, 0.7647, 0.2510,\n",
       "           0.0000, 0.0000, 0.0000, 0.0000],\n",
       "          [0.0000, 0.0000, 0.0000, 0.0000, 0.0000, 0.0000, 0.0000, 0.1922,\n",
       "           0.9333, 0.9922, 0.9922, 0.9922, 0.9922, 0.9922, 0.9922, 0.9922,\n",
       "           0.9922, 0.9843, 0.3647, 0.3216, 0.3216, 0.2196, 0.1529, 0.0000,\n",
       "           0.0000, 0.0000, 0.0000, 0.0000],\n",
       "          [0.0000, 0.0000, 0.0000, 0.0000, 0.0000, 0.0000, 0.0000, 0.0706,\n",
       "           0.8588, 0.9922, 0.9922, 0.9922, 0.9922, 0.9922, 0.7765, 0.7137,\n",
       "           0.9686, 0.9451, 0.0000, 0.0000, 0.0000, 0.0000, 0.0000, 0.0000,\n",
       "           0.0000, 0.0000, 0.0000, 0.0000],\n",
       "          [0.0000, 0.0000, 0.0000, 0.0000, 0.0000, 0.0000, 0.0000, 0.0000,\n",
       "           0.3137, 0.6118, 0.4196, 0.9922, 0.9922, 0.8039, 0.0431, 0.0000,\n",
       "           0.1686, 0.6039, 0.0000, 0.0000, 0.0000, 0.0000, 0.0000, 0.0000,\n",
       "           0.0000, 0.0000, 0.0000, 0.0000],\n",
       "          [0.0000, 0.0000, 0.0000, 0.0000, 0.0000, 0.0000, 0.0000, 0.0000,\n",
       "           0.0000, 0.0549, 0.0039, 0.6039, 0.9922, 0.3529, 0.0000, 0.0000,\n",
       "           0.0000, 0.0000, 0.0000, 0.0000, 0.0000, 0.0000, 0.0000, 0.0000,\n",
       "           0.0000, 0.0000, 0.0000, 0.0000],\n",
       "          [0.0000, 0.0000, 0.0000, 0.0000, 0.0000, 0.0000, 0.0000, 0.0000,\n",
       "           0.0000, 0.0000, 0.0000, 0.5451, 0.9922, 0.7451, 0.0078, 0.0000,\n",
       "           0.0000, 0.0000, 0.0000, 0.0000, 0.0000, 0.0000, 0.0000, 0.0000,\n",
       "           0.0000, 0.0000, 0.0000, 0.0000],\n",
       "          [0.0000, 0.0000, 0.0000, 0.0000, 0.0000, 0.0000, 0.0000, 0.0000,\n",
       "           0.0000, 0.0000, 0.0000, 0.0431, 0.7451, 0.9922, 0.2745, 0.0000,\n",
       "           0.0000, 0.0000, 0.0000, 0.0000, 0.0000, 0.0000, 0.0000, 0.0000,\n",
       "           0.0000, 0.0000, 0.0000, 0.0000],\n",
       "          [0.0000, 0.0000, 0.0000, 0.0000, 0.0000, 0.0000, 0.0000, 0.0000,\n",
       "           0.0000, 0.0000, 0.0000, 0.0000, 0.1373, 0.9451, 0.8824, 0.6275,\n",
       "           0.4235, 0.0039, 0.0000, 0.0000, 0.0000, 0.0000, 0.0000, 0.0000,\n",
       "           0.0000, 0.0000, 0.0000, 0.0000],\n",
       "          [0.0000, 0.0000, 0.0000, 0.0000, 0.0000, 0.0000, 0.0000, 0.0000,\n",
       "           0.0000, 0.0000, 0.0000, 0.0000, 0.0000, 0.3176, 0.9412, 0.9922,\n",
       "           0.9922, 0.4667, 0.0980, 0.0000, 0.0000, 0.0000, 0.0000, 0.0000,\n",
       "           0.0000, 0.0000, 0.0000, 0.0000],\n",
       "          [0.0000, 0.0000, 0.0000, 0.0000, 0.0000, 0.0000, 0.0000, 0.0000,\n",
       "           0.0000, 0.0000, 0.0000, 0.0000, 0.0000, 0.0000, 0.1765, 0.7294,\n",
       "           0.9922, 0.9922, 0.5882, 0.1059, 0.0000, 0.0000, 0.0000, 0.0000,\n",
       "           0.0000, 0.0000, 0.0000, 0.0000],\n",
       "          [0.0000, 0.0000, 0.0000, 0.0000, 0.0000, 0.0000, 0.0000, 0.0000,\n",
       "           0.0000, 0.0000, 0.0000, 0.0000, 0.0000, 0.0000, 0.0000, 0.0627,\n",
       "           0.3647, 0.9882, 0.9922, 0.7333, 0.0000, 0.0000, 0.0000, 0.0000,\n",
       "           0.0000, 0.0000, 0.0000, 0.0000],\n",
       "          [0.0000, 0.0000, 0.0000, 0.0000, 0.0000, 0.0000, 0.0000, 0.0000,\n",
       "           0.0000, 0.0000, 0.0000, 0.0000, 0.0000, 0.0000, 0.0000, 0.0000,\n",
       "           0.0000, 0.9765, 0.9922, 0.9765, 0.2510, 0.0000, 0.0000, 0.0000,\n",
       "           0.0000, 0.0000, 0.0000, 0.0000],\n",
       "          [0.0000, 0.0000, 0.0000, 0.0000, 0.0000, 0.0000, 0.0000, 0.0000,\n",
       "           0.0000, 0.0000, 0.0000, 0.0000, 0.0000, 0.0000, 0.1804, 0.5098,\n",
       "           0.7176, 0.9922, 0.9922, 0.8118, 0.0078, 0.0000, 0.0000, 0.0000,\n",
       "           0.0000, 0.0000, 0.0000, 0.0000],\n",
       "          [0.0000, 0.0000, 0.0000, 0.0000, 0.0000, 0.0000, 0.0000, 0.0000,\n",
       "           0.0000, 0.0000, 0.0000, 0.0000, 0.1529, 0.5804, 0.8980, 0.9922,\n",
       "           0.9922, 0.9922, 0.9804, 0.7137, 0.0000, 0.0000, 0.0000, 0.0000,\n",
       "           0.0000, 0.0000, 0.0000, 0.0000],\n",
       "          [0.0000, 0.0000, 0.0000, 0.0000, 0.0000, 0.0000, 0.0000, 0.0000,\n",
       "           0.0000, 0.0000, 0.0941, 0.4471, 0.8667, 0.9922, 0.9922, 0.9922,\n",
       "           0.9922, 0.7882, 0.3059, 0.0000, 0.0000, 0.0000, 0.0000, 0.0000,\n",
       "           0.0000, 0.0000, 0.0000, 0.0000],\n",
       "          [0.0000, 0.0000, 0.0000, 0.0000, 0.0000, 0.0000, 0.0000, 0.0000,\n",
       "           0.0902, 0.2588, 0.8353, 0.9922, 0.9922, 0.9922, 0.9922, 0.7765,\n",
       "           0.3176, 0.0078, 0.0000, 0.0000, 0.0000, 0.0000, 0.0000, 0.0000,\n",
       "           0.0000, 0.0000, 0.0000, 0.0000],\n",
       "          [0.0000, 0.0000, 0.0000, 0.0000, 0.0000, 0.0000, 0.0706, 0.6706,\n",
       "           0.8588, 0.9922, 0.9922, 0.9922, 0.9922, 0.7647, 0.3137, 0.0353,\n",
       "           0.0000, 0.0000, 0.0000, 0.0000, 0.0000, 0.0000, 0.0000, 0.0000,\n",
       "           0.0000, 0.0000, 0.0000, 0.0000],\n",
       "          [0.0000, 0.0000, 0.0000, 0.0000, 0.2157, 0.6745, 0.8863, 0.9922,\n",
       "           0.9922, 0.9922, 0.9922, 0.9569, 0.5216, 0.0431, 0.0000, 0.0000,\n",
       "           0.0000, 0.0000, 0.0000, 0.0000, 0.0000, 0.0000, 0.0000, 0.0000,\n",
       "           0.0000, 0.0000, 0.0000, 0.0000],\n",
       "          [0.0000, 0.0000, 0.0000, 0.0000, 0.5333, 0.9922, 0.9922, 0.9922,\n",
       "           0.8314, 0.5294, 0.5176, 0.0627, 0.0000, 0.0000, 0.0000, 0.0000,\n",
       "           0.0000, 0.0000, 0.0000, 0.0000, 0.0000, 0.0000, 0.0000, 0.0000,\n",
       "           0.0000, 0.0000, 0.0000, 0.0000],\n",
       "          [0.0000, 0.0000, 0.0000, 0.0000, 0.0000, 0.0000, 0.0000, 0.0000,\n",
       "           0.0000, 0.0000, 0.0000, 0.0000, 0.0000, 0.0000, 0.0000, 0.0000,\n",
       "           0.0000, 0.0000, 0.0000, 0.0000, 0.0000, 0.0000, 0.0000, 0.0000,\n",
       "           0.0000, 0.0000, 0.0000, 0.0000],\n",
       "          [0.0000, 0.0000, 0.0000, 0.0000, 0.0000, 0.0000, 0.0000, 0.0000,\n",
       "           0.0000, 0.0000, 0.0000, 0.0000, 0.0000, 0.0000, 0.0000, 0.0000,\n",
       "           0.0000, 0.0000, 0.0000, 0.0000, 0.0000, 0.0000, 0.0000, 0.0000,\n",
       "           0.0000, 0.0000, 0.0000, 0.0000],\n",
       "          [0.0000, 0.0000, 0.0000, 0.0000, 0.0000, 0.0000, 0.0000, 0.0000,\n",
       "           0.0000, 0.0000, 0.0000, 0.0000, 0.0000, 0.0000, 0.0000, 0.0000,\n",
       "           0.0000, 0.0000, 0.0000, 0.0000, 0.0000, 0.0000, 0.0000, 0.0000,\n",
       "           0.0000, 0.0000, 0.0000, 0.0000]]]),\n",
       " 5)"
      ]
     },
     "execution_count": 8,
     "metadata": {},
     "output_type": "execute_result"
    }
   ],
   "source": [
    "image,label"
   ]
  },
  {
   "cell_type": "markdown",
   "id": "aca2f7fa-a318-4525-9465-1c7cdf6699b7",
   "metadata": {},
   "source": [
    "Note: There are two main agreed upon ways for representing images in machine learning:\n",
    "\n",
    "1. Color channels first: [color_channels, height, width] (CHW) -> PyTorch default (as of April 2022)\n",
    "2. Color channels last: [height, width, color_channels] (HWC) -> Matplotlib/TensorFlow default (as of April 2022)"
   ]
  },
  {
   "cell_type": "code",
   "execution_count": 9,
   "id": "d88a05be-82af-4cd3-ace9-a187320bb03c",
   "metadata": {},
   "outputs": [
    {
     "data": {
      "text/plain": [
       "['0 - zero',\n",
       " '1 - one',\n",
       " '2 - two',\n",
       " '3 - three',\n",
       " '4 - four',\n",
       " '5 - five',\n",
       " '6 - six',\n",
       " '7 - seven',\n",
       " '8 - eight',\n",
       " '9 - nine']"
      ]
     },
     "execution_count": 9,
     "metadata": {},
     "output_type": "execute_result"
    }
   ],
   "source": [
    "# Get the class names from the datasets\n",
    "class_names=train_data.classes\n",
    "class_names"
   ]
  },
  {
   "cell_type": "markdown",
   "id": "d8ecc2e1-106a-4059-ba8d-10a8a23ac9d2",
   "metadata": {},
   "source": [
    "## 6. Visualize at least 5 different samples of the MNIST training dataset."
   ]
  },
  {
   "cell_type": "code",
   "execution_count": 10,
   "id": "b93dfd5f-2405-43a2-8f90-0cb48c3315c6",
   "metadata": {},
   "outputs": [
    {
     "data": {
      "image/png": "[encoded data removed]",
      "text/plain": [
       "<Figure size 500x500 with 1 Axes>"
      ]
     },
     "metadata": {},
     "output_type": "display_data"
    },
    {
     "data": {
      "image/png": "[encoded data removed]",
      "text/plain": [
       "<Figure size 500x500 with 1 Axes>"
      ]
     },
     "metadata": {},
     "output_type": "display_data"
    },
    {
     "data": {
      "image/png": "[encoded data removed]",
      "text/plain": [
       "<Figure size 500x500 with 1 Axes>"
      ]
     },
     "metadata": {},
     "output_type": "display_data"
    },
    {
     "data": {
      "image/png": "[encoded data removed]",
      "text/plain": [
       "<Figure size 500x500 with 1 Axes>"
      ]
     },
     "metadata": {},
     "output_type": "display_data"
    },
    {
     "data": {
      "image/png": "[encoded data removed]",
      "text/plain": [
       "<Figure size 500x500 with 1 Axes>"
      ]
     },
     "metadata": {},
     "output_type": "display_data"
    },
    {
     "data": {
      "image/png": "[encoded data removed]",
      "text/plain": [
       "<Figure size 500x500 with 1 Axes>"
      ]
     },
     "metadata": {},
     "output_type": "display_data"
    }
   ],
   "source": [
    "import matplotlib.pyplot as plt\n",
    "for i in range(6):\n",
    "    img,label=train_data[i][0],train_data[i][1]\n",
    "    plt.figure(figsize=(5,5))\n",
    "    plt.imshow(img.squeeze(),cmap=\"gray\")\n",
    "    plt.title(class_names[label])\n",
    "    plt.axis(False)"
   ]
  },
  {
   "cell_type": "markdown",
   "id": "b40a9885-8337-4860-9d83-900fd353e184",
   "metadata": {},
   "source": [
    "## 7. Turn the MNIST train and test datasets into dataloaders using torch.utils.data.DataLoader, set the batch_size=32."
   ]
  },
  {
   "cell_type": "code",
   "execution_count": 11,
   "id": "74b0af36-1e13-4b1f-a55f-05afa12a855d",
   "metadata": {},
   "outputs": [
    {
     "data": {
      "text/plain": [
       "(<torch.utils.data.dataloader.DataLoader at 0x204e9d268d0>,\n",
       " <torch.utils.data.dataloader.DataLoader at 0x204e78cf0b0>)"
      ]
     },
     "execution_count": 11,
     "metadata": {},
     "output_type": "execute_result"
    }
   ],
   "source": [
    "from torch.utils.data import DataLoader\n",
    "BATCH_SIZE=32\n",
    "train_dataloader=DataLoader(dataset=train_data,\n",
    "                            batch_size=BATCH_SIZE,\n",
    "                            shuffle=True)\n",
    "\n",
    "test_dataloader=DataLoader(dataset=test_data,\n",
    "                           batch_size=BATCH_SIZE,\n",
    "                           shuffle=False)\n",
    "\n",
    "train_dataloader,test_dataloader"
   ]
  },
  {
   "cell_type": "code",
   "execution_count": 12,
   "id": "6cc26ebd-81fc-49d0-ba81-4c43c77455cf",
   "metadata": {},
   "outputs": [
    {
     "data": {
      "text/plain": [
       "(1875, 313)"
      ]
     },
     "execution_count": 12,
     "metadata": {},
     "output_type": "execute_result"
    }
   ],
   "source": [
    "len(train_dataloader),len(test_dataloader)"
   ]
  },
  {
   "cell_type": "code",
   "execution_count": 13,
   "id": "d5b932fa-b95a-461b-8d3a-115b83797430",
   "metadata": {},
   "outputs": [
    {
     "name": "stdout",
     "output_type": "stream",
     "text": [
      "Length of train_dataloader: 1875 batches 32.\n",
      "Length of test_dataloader: 313 batches 32.\n"
     ]
    }
   ],
   "source": [
    "print(f\"Length of train_dataloader: {len(train_dataloader)} batches {BATCH_SIZE}.\")\n",
    "print(f\"Length of test_dataloader: {len(test_dataloader)} batches {BATCH_SIZE}.\")"
   ]
  },
  {
   "cell_type": "code",
   "execution_count": 14,
   "id": "8eb84ac7-2c45-479c-bc8f-8e383d641b1e",
   "metadata": {},
   "outputs": [
    {
     "name": "stdout",
     "output_type": "stream",
     "text": [
      "torch.Size([32, 1, 28, 28])\n",
      "torch.Size([32])\n"
     ]
    }
   ],
   "source": [
    "for sample in next(iter(train_dataloader)):\n",
    "    print(sample.shape)"
   ]
  },
  {
   "cell_type": "markdown",
   "id": "643e4ef4-7434-4985-bfe5-e60fc2d0a66e",
   "metadata": {},
   "source": [
    "## 8. Recreate model_2 used in notebook 03 (the same model from the CNN Explainer website, also known as TinyVGG) capable of fitting on the MNIST dataset."
   ]
  },
  {
   "cell_type": "code",
   "execution_count": 15,
   "id": "963fbc51-64f6-4aaa-9d44-5833d786b6de",
   "metadata": {},
   "outputs": [],
   "source": [
    "from torch import nn\n",
    "\n",
    "class MnistModel(nn.Module):\n",
    "    def __init__(self,input_shape:int,hidden_units:int,output_shape:int):\n",
    "        super().__init__()\n",
    "        self.conv_block_1=nn.Sequential(\n",
    "            nn.Conv2d(in_channels=input_shape,\n",
    "                      out_channels=hidden_units,\n",
    "                      kernel_size=3,\n",
    "                      stride=1,\n",
    "                      padding=1),\n",
    "            nn.ReLU(),\n",
    "            nn.Conv2d(in_channels=hidden_units,\n",
    "                      out_channels=hidden_units,\n",
    "                      kernel_size=3,\n",
    "                      stride=1,\n",
    "                      padding=1),\n",
    "            nn.ReLU(),\n",
    "            nn.MaxPool2d(kernel_size=2)\n",
    "        )\n",
    "        self.conv_block_2=nn.Sequential(\n",
    "            nn.Conv2d(in_channels=hidden_units,\n",
    "                      out_channels=hidden_units,\n",
    "                      kernel_size=3,\n",
    "                      stride=1,\n",
    "                      padding=1),\n",
    "            nn.ReLU(),\n",
    "            nn.Conv2d(in_channels=hidden_units,\n",
    "                      out_channels=hidden_units,\n",
    "                      kernel_size=3,\n",
    "                      stride=1,\n",
    "                      padding=1),\n",
    "            nn.ReLU(),\n",
    "            nn.MaxPool2d(kernel_size=2)\n",
    "        )\n",
    "        self.classifier=nn.Sequential(\n",
    "            nn.Flatten(),\n",
    "            nn.Linear(in_features=hidden_units*7*7,\n",
    "                      out_features=output_shape)\n",
    "        )\n",
    "            \n",
    "    def forward(self,x):\n",
    "        x=self.conv_block_1(x)\n",
    "        x=self.conv_block_2(x)\n",
    "        x=self.classifier(x)\n",
    "        return x"
   ]
  },
  {
   "cell_type": "code",
   "execution_count": 16,
   "id": "8fb3203b-e57e-4298-857a-2b16fc9f789e",
   "metadata": {},
   "outputs": [
    {
     "data": {
      "text/plain": [
       "device(type='cuda', index=0)"
      ]
     },
     "execution_count": 16,
     "metadata": {},
     "output_type": "execute_result"
    }
   ],
   "source": [
    "device"
   ]
  },
  {
   "cell_type": "code",
   "execution_count": 17,
   "id": "7026b766-ee7f-4035-8311-814249328dde",
   "metadata": {},
   "outputs": [
    {
     "data": {
      "text/plain": [
       "MnistModel(\n",
       "  (conv_block_1): Sequential(\n",
       "    (0): Conv2d(1, 10, kernel_size=(3, 3), stride=(1, 1), padding=(1, 1))\n",
       "    (1): ReLU()\n",
       "    (2): Conv2d(10, 10, kernel_size=(3, 3), stride=(1, 1), padding=(1, 1))\n",
       "    (3): ReLU()\n",
       "    (4): MaxPool2d(kernel_size=2, stride=2, padding=0, dilation=1, ceil_mode=False)\n",
       "  )\n",
       "  (conv_block_2): Sequential(\n",
       "    (0): Conv2d(10, 10, kernel_size=(3, 3), stride=(1, 1), padding=(1, 1))\n",
       "    (1): ReLU()\n",
       "    (2): Conv2d(10, 10, kernel_size=(3, 3), stride=(1, 1), padding=(1, 1))\n",
       "    (3): ReLU()\n",
       "    (4): MaxPool2d(kernel_size=2, stride=2, padding=0, dilation=1, ceil_mode=False)\n",
       "  )\n",
       "  (classifier): Sequential(\n",
       "    (0): Flatten(start_dim=1, end_dim=-1)\n",
       "    (1): Linear(in_features=490, out_features=10, bias=True)\n",
       "  )\n",
       ")"
      ]
     },
     "execution_count": 17,
     "metadata": {},
     "output_type": "execute_result"
    }
   ],
   "source": [
    "model=MnistModel(input_shape=1,\n",
    "                 hidden_units=10,\n",
    "                 output_shape=len(class_names)).to(device)\n",
    "\n",
    "model"
   ]
  },
  {
   "cell_type": "code",
   "execution_count": 18,
   "id": "cbbc7f54-4cba-4499-bc38-8b95cd5fb24d",
   "metadata": {},
   "outputs": [
    {
     "data": {
      "text/plain": [
       "OrderedDict([('conv_block_1.0.weight',\n",
       "              tensor([[[[-0.0565, -0.2498,  0.1601],\n",
       "                        [-0.1552, -0.3221, -0.2525],\n",
       "                        [-0.2535, -0.3112, -0.2380]]],\n",
       "              \n",
       "              \n",
       "                      [[[-0.2195, -0.0546,  0.1248],\n",
       "                        [ 0.2584,  0.0382,  0.2815],\n",
       "                        [-0.1982,  0.2042, -0.2578]]],\n",
       "              \n",
       "              \n",
       "                      [[[ 0.0111, -0.0433,  0.0047],\n",
       "                        [ 0.1286,  0.2206, -0.1819],\n",
       "                        [ 0.1432, -0.1608, -0.1247]]],\n",
       "              \n",
       "              \n",
       "                      [[[-0.0394, -0.2514, -0.0048],\n",
       "                        [-0.1884, -0.0390,  0.0218],\n",
       "                        [-0.1367,  0.3091, -0.3315]]],\n",
       "              \n",
       "              \n",
       "                      [[[ 0.0195,  0.1622,  0.2499],\n",
       "                        [-0.1605, -0.2586,  0.3263],\n",
       "                        [ 0.1705, -0.2710,  0.2841]]],\n",
       "              \n",
       "              \n",
       "                      [[[-0.0500, -0.2341, -0.1277],\n",
       "                        [ 0.1555, -0.2949,  0.1446],\n",
       "                        [ 0.2172,  0.2183,  0.0477]]],\n",
       "              \n",
       "              \n",
       "                      [[[ 0.2560,  0.2251, -0.0826],\n",
       "                        [-0.0099, -0.2303,  0.0933],\n",
       "                        [ 0.1367,  0.1670, -0.1174]]],\n",
       "              \n",
       "              \n",
       "                      [[[ 0.1961, -0.1853,  0.2757],\n",
       "                        [-0.0200, -0.2766, -0.1491],\n",
       "                        [ 0.1572, -0.1343,  0.1864]]],\n",
       "              \n",
       "              \n",
       "                      [[[-0.1637, -0.0966,  0.2938],\n",
       "                        [ 0.0202, -0.0530, -0.1568],\n",
       "                        [-0.2703,  0.2234, -0.0978]]],\n",
       "              \n",
       "              \n",
       "                      [[[-0.2387, -0.1899,  0.1812],\n",
       "                        [ 0.2887, -0.0594, -0.1052],\n",
       "                        [ 0.2139, -0.0420, -0.3073]]]], device='cuda:0')),\n",
       "             ('conv_block_1.0.bias',\n",
       "              tensor([ 0.0901,  0.0492, -0.0829,  0.3185, -0.1584,  0.2594,  0.0455, -0.2627,\n",
       "                      -0.3126,  0.1823], device='cuda:0')),\n",
       "             ('conv_block_1.2.weight',\n",
       "              tensor([[[[-0.0139,  0.0977,  0.0605],\n",
       "                        [ 0.0398,  0.0234, -0.0312],\n",
       "                        [ 0.0594,  0.0987,  0.0200]],\n",
       "              \n",
       "                       [[ 0.0487, -0.0032, -0.0619],\n",
       "                        [-0.0394, -0.0208, -0.0697],\n",
       "                        [ 0.0121, -0.0843, -0.0533]],\n",
       "              \n",
       "                       [[-0.0404, -0.0446,  0.0111],\n",
       "                        [-0.0866,  0.0475, -0.0998],\n",
       "                        [ 0.0644, -0.0624,  0.0169]],\n",
       "              \n",
       "                       [[-0.0239, -0.0312, -0.0771],\n",
       "                        [-0.0726,  0.0113,  0.0245],\n",
       "                        [-0.1003,  0.0658, -0.0950]],\n",
       "              \n",
       "                       [[-0.0050, -0.0802,  0.0312],\n",
       "                        [ 0.0205,  0.0512,  0.0524],\n",
       "                        [-0.0484,  0.0674, -0.0950]],\n",
       "              \n",
       "                       [[-0.0619,  0.0804,  0.0765],\n",
       "                        [-0.0660, -0.0479, -0.0848],\n",
       "                        [ 0.0018,  0.0614, -0.0275]],\n",
       "              \n",
       "                       [[-0.0527, -0.0053, -0.0948],\n",
       "                        [ 0.0918,  0.0089,  0.0798],\n",
       "                        [ 0.0107, -0.0227, -0.0021]],\n",
       "              \n",
       "                       [[-0.0834,  0.0939, -0.0505],\n",
       "                        [ 0.0516, -0.0016, -0.0304],\n",
       "                        [ 0.0848,  0.0211, -0.0117]],\n",
       "              \n",
       "                       [[-0.0499, -0.0148, -0.0129],\n",
       "                        [-0.0889,  0.0359,  0.0781],\n",
       "                        [ 0.0127,  0.0560, -0.0261]],\n",
       "              \n",
       "                       [[ 0.0819, -0.0721, -0.0031],\n",
       "                        [ 0.0759, -0.0042, -0.0627],\n",
       "                        [-0.0580, -0.0175,  0.0692]]],\n",
       "              \n",
       "              \n",
       "                      [[[-0.0165,  0.0118,  0.0839],\n",
       "                        [-0.0445, -0.0906,  0.0343],\n",
       "                        [ 0.0634,  0.1041,  0.0082]],\n",
       "              \n",
       "                       [[-0.0145, -0.0944,  0.0309],\n",
       "                        [ 0.0185, -0.0249,  0.0479],\n",
       "                        [ 0.0586, -0.1040,  0.0345]],\n",
       "              \n",
       "                       [[ 0.0907, -0.1009, -0.0126],\n",
       "                        [-0.0338,  0.1015,  0.0890],\n",
       "                        [ 0.0813,  0.0011, -0.0475]],\n",
       "              \n",
       "                       [[ 0.0429, -0.0990, -0.0373],\n",
       "                        [ 0.0887,  0.0805, -0.0612],\n",
       "                        [ 0.0995,  0.0153,  0.0904]],\n",
       "              \n",
       "                       [[-0.0309,  0.0868, -0.0269],\n",
       "                        [ 0.0873, -0.0637, -0.0123],\n",
       "                        [-0.0557, -0.0192, -0.1032]],\n",
       "              \n",
       "                       [[-0.0088, -0.0057, -0.0274],\n",
       "                        [ 0.0166, -0.0869,  0.0686],\n",
       "                        [-0.0686, -0.0544,  0.0932]],\n",
       "              \n",
       "                       [[ 0.0704, -0.0688, -0.0914],\n",
       "                        [ 0.0659,  0.1000,  0.0618],\n",
       "                        [ 0.0808, -0.0687,  0.0857]],\n",
       "              \n",
       "                       [[ 0.0916, -0.0010,  0.0977],\n",
       "                        [-0.0024, -0.0219, -0.0381],\n",
       "                        [ 0.0228, -0.0670, -0.0977]],\n",
       "              \n",
       "                       [[ 0.0985,  0.0639, -0.0806],\n",
       "                        [-0.0388,  0.0795,  0.0845],\n",
       "                        [-0.0183, -0.0228, -0.0571]],\n",
       "              \n",
       "                       [[ 0.0717, -0.0281, -0.0103],\n",
       "                        [ 0.0502, -0.0058, -0.0567],\n",
       "                        [-0.1025, -0.0888, -0.0324]]],\n",
       "              \n",
       "              \n",
       "                      [[[ 0.0111, -0.0625,  0.0784],\n",
       "                        [-0.0373, -0.0230,  0.0944],\n",
       "                        [-0.0447, -0.0662, -0.0420]],\n",
       "              \n",
       "                       [[ 0.0983, -0.0807,  0.0585],\n",
       "                        [-0.1009,  0.1033,  0.0681],\n",
       "                        [ 0.1034,  0.0324, -0.0335]],\n",
       "              \n",
       "                       [[ 0.1049, -0.0187,  0.0411],\n",
       "                        [ 0.0017, -0.0290, -0.0297],\n",
       "                        [ 0.1026, -0.0208, -0.0631]],\n",
       "              \n",
       "                       [[-0.0832,  0.0811,  0.0187],\n",
       "                        [ 0.0055, -0.0852, -0.0281],\n",
       "                        [ 0.0931,  0.0949,  0.0115]],\n",
       "              \n",
       "                       [[ 0.0016, -0.0523,  0.0076],\n",
       "                        [ 0.0365, -0.1025,  0.0680],\n",
       "                        [ 0.0937, -0.0094,  0.0870]],\n",
       "              \n",
       "                       [[-0.0110,  0.0450,  0.0863],\n",
       "                        [ 0.1048,  0.0839,  0.0598],\n",
       "                        [-0.0739, -0.0572,  0.0269]],\n",
       "              \n",
       "                       [[-0.0408, -0.0194,  0.0469],\n",
       "                        [ 0.0767, -0.1034,  0.0165],\n",
       "                        [ 0.0411, -0.0716, -0.0814]],\n",
       "              \n",
       "                       [[-0.0076, -0.0714,  0.0049],\n",
       "                        [ 0.0502,  0.0721, -0.0325],\n",
       "                        [ 0.0062,  0.0262, -0.0716]],\n",
       "              \n",
       "                       [[-0.0586,  0.0834,  0.0914],\n",
       "                        [ 0.0908,  0.0668, -0.0423],\n",
       "                        [ 0.0232,  0.0690, -0.0531]],\n",
       "              \n",
       "                       [[ 0.0061, -0.0080,  0.0206],\n",
       "                        [ 0.0567,  0.0820,  0.0226],\n",
       "                        [-0.0230, -0.0379, -0.0898]]],\n",
       "              \n",
       "              \n",
       "                      [[[ 0.0166,  0.0309,  0.0875],\n",
       "                        [ 0.0304,  0.0236,  0.0936],\n",
       "                        [-0.0516,  0.0666, -0.0417]],\n",
       "              \n",
       "                       [[ 0.0691, -0.0426, -0.0848],\n",
       "                        [-0.0345,  0.1005, -0.1053],\n",
       "                        [-0.0081, -0.0772,  0.0379]],\n",
       "              \n",
       "                       [[ 0.0963, -0.0715, -0.1044],\n",
       "                        [-0.0339, -0.0381, -0.0579],\n",
       "                        [-0.0674,  0.0600, -0.0487]],\n",
       "              \n",
       "                       [[ 0.0645,  0.0609, -0.1024],\n",
       "                        [-0.0391,  0.0551,  0.0346],\n",
       "                        [ 0.0471, -0.0629,  0.0430]],\n",
       "              \n",
       "                       [[-0.0688,  0.0628, -0.0858],\n",
       "                        [ 0.0752,  0.0556,  0.0593],\n",
       "                        [ 0.0816, -0.1035, -0.0920]],\n",
       "              \n",
       "                       [[ 0.0674, -0.0250,  0.0829],\n",
       "                        [ 0.0970,  0.0846,  0.0988],\n",
       "                        [ 0.0626,  0.0485,  0.0240]],\n",
       "              \n",
       "                       [[-0.0162, -0.0382,  0.0956],\n",
       "                        [ 0.0504, -0.0352, -0.0301],\n",
       "                        [ 0.0406, -0.0709, -0.0655]],\n",
       "              \n",
       "                       [[ 0.0936,  0.0909, -0.0747],\n",
       "                        [-0.0296, -0.0754, -0.0827],\n",
       "                        [ 0.1028,  0.0800,  0.0680]],\n",
       "              \n",
       "                       [[ 0.0882, -0.0977, -0.0655],\n",
       "                        [-0.0007,  0.0569,  0.0196],\n",
       "                        [-0.0461,  0.0647, -0.0636]],\n",
       "              \n",
       "                       [[-0.0100,  0.0173, -0.0543],\n",
       "                        [ 0.0988, -0.0099, -0.0831],\n",
       "                        [-0.0892,  0.0940,  0.0824]]],\n",
       "              \n",
       "              \n",
       "                      [[[ 0.0552,  0.0235, -0.0479],\n",
       "                        [ 0.0017, -0.0103, -0.0152],\n",
       "                        [-0.0574,  0.0408,  0.0052]],\n",
       "              \n",
       "                       [[ 0.0083, -0.0545, -0.0405],\n",
       "                        [ 0.0006, -0.0795,  0.0505],\n",
       "                        [ 0.0077, -0.0454, -0.0842]],\n",
       "              \n",
       "                       [[-0.0104, -0.0445, -0.0634],\n",
       "                        [ 0.0325,  0.0463,  0.0097],\n",
       "                        [ 0.0013, -0.0864, -0.0958]],\n",
       "              \n",
       "                       [[ 0.0640, -0.0879,  0.0568],\n",
       "                        [-0.0961, -0.0733, -0.0077],\n",
       "                        [ 0.0129,  0.0062,  0.0580]],\n",
       "              \n",
       "                       [[ 0.0266,  0.0375,  0.0226],\n",
       "                        [ 0.0083, -0.0133, -0.0649],\n",
       "                        [ 0.0601, -0.0217, -0.0435]],\n",
       "              \n",
       "                       [[ 0.0348,  0.0628, -0.0268],\n",
       "                        [ 0.0855, -0.0900, -0.0720],\n",
       "                        [ 0.0152,  0.0491,  0.0128]],\n",
       "              \n",
       "                       [[ 0.0711, -0.0077,  0.0844],\n",
       "                        [ 0.0929, -0.0125,  0.0107],\n",
       "                        [-0.0609, -0.0604, -0.0913]],\n",
       "              \n",
       "                       [[-0.0065,  0.0928,  0.0823],\n",
       "                        [-0.0704, -0.0674, -0.0752],\n",
       "                        [-0.0578, -0.0403,  0.0515]],\n",
       "              \n",
       "                       [[ 0.0394,  0.0542, -0.0284],\n",
       "                        [ 0.0941,  0.0839,  0.0720],\n",
       "                        [-0.0627,  0.0463, -0.0760]],\n",
       "              \n",
       "                       [[ 0.0866, -0.0102, -0.0351],\n",
       "                        [ 0.0487,  0.0424, -0.0047],\n",
       "                        [-0.0598, -0.0197,  0.0412]]],\n",
       "              \n",
       "              \n",
       "                      [[[ 0.0624, -0.0331, -0.0798],\n",
       "                        [ 0.0514, -0.0787,  0.0685],\n",
       "                        [ 0.0431,  0.0283, -0.0881]],\n",
       "              \n",
       "                       [[-0.0019,  0.0478, -0.0944],\n",
       "                        [-0.0729, -0.0530,  0.0519],\n",
       "                        [ 0.0060,  0.0779, -0.0466]],\n",
       "              \n",
       "                       [[ 0.0422, -0.0463, -0.0647],\n",
       "                        [-0.0444,  0.1019,  0.0513],\n",
       "                        [ 0.0347,  0.0072, -0.0704]],\n",
       "              \n",
       "                       [[-0.0284,  0.0239,  0.0668],\n",
       "                        [-0.0090,  0.0535, -0.0247],\n",
       "                        [ 0.0696,  0.0732,  0.0123]],\n",
       "              \n",
       "                       [[ 0.0029, -0.0735,  0.0244],\n",
       "                        [ 0.1053, -0.0385,  0.0162],\n",
       "                        [ 0.0127,  0.0854, -0.0379]],\n",
       "              \n",
       "                       [[ 0.0318,  0.0599,  0.0345],\n",
       "                        [-0.0420,  0.0772, -0.0076],\n",
       "                        [-0.0710, -0.0386, -0.0822]],\n",
       "              \n",
       "                       [[ 0.0792, -0.1019, -0.0944],\n",
       "                        [-0.0622, -0.0460, -0.0849],\n",
       "                        [-0.0813, -0.0028,  0.0853]],\n",
       "              \n",
       "                       [[-0.0924, -0.0534, -0.0079],\n",
       "                        [ 0.0522,  0.0871, -0.0527],\n",
       "                        [-0.0935,  0.0554,  0.0509]],\n",
       "              \n",
       "                       [[ 0.1035, -0.0234, -0.0576],\n",
       "                        [ 0.0734,  0.0844,  0.0060],\n",
       "                        [ 0.0706, -0.0988,  0.0963]],\n",
       "              \n",
       "                       [[-0.0867,  0.0589,  0.0588],\n",
       "                        [-0.0426,  0.0743,  0.0061],\n",
       "                        [-0.0056,  0.0652,  0.1007]]],\n",
       "              \n",
       "              \n",
       "                      [[[-0.0299, -0.0550, -0.0969],\n",
       "                        [-0.0095, -0.0007, -0.0472],\n",
       "                        [-0.0508, -0.0796, -0.0167]],\n",
       "              \n",
       "                       [[ 0.0442, -0.0599,  0.0576],\n",
       "                        [ 0.0262, -0.0932,  0.0996],\n",
       "                        [ 0.0973,  0.0610,  0.0911]],\n",
       "              \n",
       "                       [[ 0.0312,  0.0031, -0.0064],\n",
       "                        [ 0.0841, -0.0103, -0.0304],\n",
       "                        [-0.0961,  0.0800, -0.0002]],\n",
       "              \n",
       "                       [[ 0.0392, -0.0656,  0.0427],\n",
       "                        [-0.0448,  0.0923,  0.0852],\n",
       "                        [-0.0372, -0.0564,  0.0484]],\n",
       "              \n",
       "                       [[ 0.0290,  0.0834,  0.0522],\n",
       "                        [-0.0313, -0.0340, -0.0438],\n",
       "                        [ 0.0930, -0.0826,  0.0961]],\n",
       "              \n",
       "                       [[-0.0924,  0.0017, -0.0101],\n",
       "                        [-0.0127, -0.0670,  0.0333],\n",
       "                        [ 0.0791, -0.0737,  0.0998]],\n",
       "              \n",
       "                       [[ 0.0163,  0.0906,  0.0167],\n",
       "                        [ 0.0883, -0.0913,  0.0593],\n",
       "                        [-0.0855, -0.0530, -0.0279]],\n",
       "              \n",
       "                       [[-0.0819, -0.0178, -0.0602],\n",
       "                        [-0.0781,  0.0010, -0.0193],\n",
       "                        [ 0.0961, -0.0318, -0.0027]],\n",
       "              \n",
       "                       [[ 0.0772,  0.0201, -0.0380],\n",
       "                        [ 0.0864, -0.0343, -0.0030],\n",
       "                        [ 0.0163,  0.0153, -0.0298]],\n",
       "              \n",
       "                       [[-0.0637,  0.0464, -0.0156],\n",
       "                        [-0.0391,  0.0516,  0.0613],\n",
       "                        [-0.0019,  0.0490,  0.0891]]],\n",
       "              \n",
       "              \n",
       "                      [[[ 0.0844, -0.0289, -0.0659],\n",
       "                        [ 0.0761,  0.0533,  0.1030],\n",
       "                        [-0.0857,  0.0887, -0.0475]],\n",
       "              \n",
       "                       [[-0.0061,  0.0394, -0.0387],\n",
       "                        [ 0.0866,  0.0487,  0.0267],\n",
       "                        [-0.0017, -0.0481,  0.1034]],\n",
       "              \n",
       "                       [[-0.0295,  0.0657, -0.0680],\n",
       "                        [ 0.0397, -0.1012,  0.0839],\n",
       "                        [-0.0327, -0.0445,  0.0882]],\n",
       "              \n",
       "                       [[-0.0321,  0.0368, -0.0909],\n",
       "                        [-0.0540,  0.0009,  0.0688],\n",
       "                        [-0.0353,  0.1018,  0.0509]],\n",
       "              \n",
       "                       [[ 0.0363,  0.0659, -0.0615],\n",
       "                        [ 0.0891,  0.0530, -0.0661],\n",
       "                        [ 0.1039, -0.0890,  0.1005]],\n",
       "              \n",
       "                       [[-0.0123, -0.0797, -0.0883],\n",
       "                        [ 0.0453,  0.0359,  0.0769],\n",
       "                        [ 0.0196,  0.0219,  0.0347]],\n",
       "              \n",
       "                       [[-0.0550, -0.0191,  0.0599],\n",
       "                        [ 0.0338, -0.0244, -0.0758],\n",
       "                        [ 0.0973, -0.1025, -0.0054]],\n",
       "              \n",
       "                       [[-0.0545, -0.0860, -0.0866],\n",
       "                        [-0.0696, -0.0871, -0.0372],\n",
       "                        [-0.0764, -0.0667, -0.0093]],\n",
       "              \n",
       "                       [[-0.0426, -0.0071, -0.0548],\n",
       "                        [-0.0660,  0.0111, -0.0752],\n",
       "                        [ 0.0212,  0.0011, -0.0219]],\n",
       "              \n",
       "                       [[-0.0603, -0.0789,  0.1027],\n",
       "                        [ 0.0783,  0.0314,  0.0501],\n",
       "                        [ 0.0609, -0.0513, -0.0103]]],\n",
       "              \n",
       "              \n",
       "                      [[[-0.0819,  0.0087, -0.1032],\n",
       "                        [-0.0908, -0.0135, -0.0280],\n",
       "                        [ 0.0989, -0.0016, -0.0462]],\n",
       "              \n",
       "                       [[ 0.0670,  0.0942, -0.0102],\n",
       "                        [-0.0864,  0.0300, -0.0619],\n",
       "                        [ 0.0055,  0.0871, -0.0591]],\n",
       "              \n",
       "                       [[-0.0301,  0.0347,  0.0739],\n",
       "                        [ 0.0651, -0.0422,  0.0241],\n",
       "                        [ 0.0012,  0.0387, -0.0154]],\n",
       "              \n",
       "                       [[ 0.0540, -0.0592, -0.0384],\n",
       "                        [ 0.0256, -0.0025,  0.0797],\n",
       "                        [-0.0644, -0.0841, -0.0960]],\n",
       "              \n",
       "                       [[-0.0736,  0.1026, -0.0646],\n",
       "                        [-0.0201, -0.0846, -0.0648],\n",
       "                        [ 0.0216,  0.0647,  0.0992]],\n",
       "              \n",
       "                       [[ 0.0085, -0.0352, -0.0468],\n",
       "                        [ 0.0594, -0.0577, -0.0307],\n",
       "                        [ 0.0030,  0.0901, -0.0340]],\n",
       "              \n",
       "                       [[-0.0988,  0.0374,  0.0820],\n",
       "                        [-0.0621,  0.0866,  0.0028],\n",
       "                        [-0.0708,  0.0827, -0.0275]],\n",
       "              \n",
       "                       [[-0.0395, -0.0313, -0.0341],\n",
       "                        [-0.0453, -0.0979,  0.0106],\n",
       "                        [ 0.0877, -0.0385, -0.0738]],\n",
       "              \n",
       "                       [[ 0.0385, -0.0600,  0.0610],\n",
       "                        [-0.0731,  0.0013, -0.0234],\n",
       "                        [-0.0631, -0.0539,  0.0615]],\n",
       "              \n",
       "                       [[-0.0237,  0.0597, -0.0155],\n",
       "                        [ 0.0056,  0.0924, -0.0355],\n",
       "                        [ 0.0180, -0.0117, -0.0848]]],\n",
       "              \n",
       "              \n",
       "                      [[[-0.0107, -0.0802,  0.0254],\n",
       "                        [-0.0568, -0.0049,  0.0702],\n",
       "                        [ 0.0954,  0.0848,  0.0327]],\n",
       "              \n",
       "                       [[-0.1021,  0.0923,  0.0733],\n",
       "                        [-0.0190,  0.0326,  0.0142],\n",
       "                        [ 0.0362,  0.0517,  0.0386]],\n",
       "              \n",
       "                       [[ 0.0665, -0.0663, -0.0430],\n",
       "                        [-0.0240,  0.0737,  0.1012],\n",
       "                        [ 0.0258, -0.0994, -0.0057]],\n",
       "              \n",
       "                       [[ 0.0255, -0.0466,  0.0774],\n",
       "                        [ 0.0400, -0.0840,  0.0002],\n",
       "                        [-0.0307, -0.0314,  0.0133]],\n",
       "              \n",
       "                       [[-0.0729, -0.0661, -0.0421],\n",
       "                        [-0.0618, -0.0453, -0.0930],\n",
       "                        [ 0.0868, -0.0641, -0.0804]],\n",
       "              \n",
       "                       [[ 0.0380, -0.0076,  0.0893],\n",
       "                        [-0.0605, -0.1026, -0.0125],\n",
       "                        [ 0.1040, -0.0702,  0.0937]],\n",
       "              \n",
       "                       [[ 0.0658,  0.0663,  0.0975],\n",
       "                        [ 0.0659,  0.0635,  0.0600],\n",
       "                        [ 0.0325, -0.0331, -0.0280]],\n",
       "              \n",
       "                       [[ 0.0480,  0.0973, -0.0697],\n",
       "                        [ 0.0523, -0.0620,  0.0281],\n",
       "                        [ 0.0867, -0.0391,  0.0288]],\n",
       "              \n",
       "                       [[-0.0587,  0.0912,  0.1047],\n",
       "                        [-0.0892,  0.0804,  0.1011],\n",
       "                        [-0.0034,  0.0095, -0.0567]],\n",
       "              \n",
       "                       [[-0.0943,  0.0072,  0.0749],\n",
       "                        [-0.0986, -0.0980,  0.0441],\n",
       "                        [-0.0899, -0.0889, -0.0772]]]], device='cuda:0')),\n",
       "             ('conv_block_1.2.bias',\n",
       "              tensor([-0.0887,  0.0880,  0.0982, -0.0521, -0.0362,  0.0036, -0.0048,  0.0811,\n",
       "                       0.0077,  0.0227], device='cuda:0')),\n",
       "             ('conv_block_2.0.weight',\n",
       "              tensor([[[[-9.4776e-03, -5.9265e-02,  8.2778e-02],\n",
       "                        [ 8.7338e-03,  4.0634e-02, -9.6248e-02],\n",
       "                        [-2.6987e-02, -2.2775e-02,  9.2748e-02]],\n",
       "              \n",
       "                       [[ 2.6382e-02,  4.3062e-02, -1.9623e-02],\n",
       "                        [-3.7965e-02, -1.8314e-02,  5.2784e-02],\n",
       "                        [-1.8285e-03,  9.8817e-02,  9.1858e-03]],\n",
       "              \n",
       "                       [[ 6.2438e-02, -9.7490e-02, -7.3861e-02],\n",
       "                        [ 4.1200e-02,  5.7992e-02,  8.9856e-02],\n",
       "                        [ 3.8931e-02,  3.7774e-02, -9.1880e-02]],\n",
       "              \n",
       "                       [[ 2.2329e-02,  7.4698e-03, -2.9647e-02],\n",
       "                        [ 3.0256e-02,  8.2873e-02,  7.7364e-02],\n",
       "                        [ 8.6157e-03,  8.4621e-02, -4.0135e-02]],\n",
       "              \n",
       "                       [[ 5.2987e-02, -1.6497e-03,  2.8723e-02],\n",
       "                        [ 3.0309e-02, -2.9139e-03, -6.1028e-02],\n",
       "                        [ 2.2669e-02,  2.1623e-02,  8.7268e-02]],\n",
       "              \n",
       "                       [[ 4.6836e-02, -3.4517e-02,  8.6669e-02],\n",
       "                        [ 7.5699e-02, -7.3108e-03, -1.1029e-02],\n",
       "                        [-4.2133e-02, -8.6219e-02,  5.1171e-02]],\n",
       "              \n",
       "                       [[-7.2174e-02,  7.9906e-03,  5.4494e-02],\n",
       "                        [-1.3547e-02,  1.0539e-01, -5.3317e-02],\n",
       "                        [ 5.2042e-02, -1.9251e-02,  8.2519e-02]],\n",
       "              \n",
       "                       [[ 3.5236e-02, -3.6335e-03,  5.5361e-02],\n",
       "                        [ 4.8408e-02,  3.4044e-02, -3.2503e-02],\n",
       "                        [ 3.1101e-03, -9.1876e-02, -2.9169e-02]],\n",
       "              \n",
       "                       [[-9.7618e-02,  3.9465e-02,  1.7343e-02],\n",
       "                        [-6.4336e-02,  1.4989e-02,  7.5490e-02],\n",
       "                        [-5.6265e-02,  7.5213e-02,  4.2325e-02]],\n",
       "              \n",
       "                       [[ 2.6935e-02, -7.0618e-02,  2.0111e-02],\n",
       "                        [-9.8765e-02, -4.0001e-02, -6.9988e-02],\n",
       "                        [-2.4898e-02,  1.5870e-02,  8.2735e-02]]],\n",
       "              \n",
       "              \n",
       "                      [[[ 6.8062e-02,  3.8704e-02, -7.4060e-02],\n",
       "                        [-8.4166e-02,  9.9069e-02,  7.4446e-02],\n",
       "                        [-8.5443e-02, -2.7886e-03,  6.3661e-02]],\n",
       "              \n",
       "                       [[-7.9505e-02,  6.8562e-02, -4.5055e-03],\n",
       "                        [ 2.6591e-02, -9.4725e-02,  8.0717e-02],\n",
       "                        [ 9.4181e-02,  2.6591e-02, -4.1370e-02]],\n",
       "              \n",
       "                       [[-5.4470e-02, -1.4006e-03,  5.4747e-02],\n",
       "                        [ 5.1450e-03,  7.3315e-02, -6.1863e-02],\n",
       "                        [-1.0220e-01,  5.6243e-02,  7.3410e-02]],\n",
       "              \n",
       "                       [[-7.9137e-03, -5.6494e-02,  8.6018e-03],\n",
       "                        [ 4.8101e-02, -1.0460e-01, -1.0091e-02],\n",
       "                        [ 6.1945e-02,  7.1621e-02, -4.6280e-02]],\n",
       "              \n",
       "                       [[ 6.7663e-02, -6.9110e-03,  1.3595e-02],\n",
       "                        [-1.8996e-02, -1.3919e-02, -4.0136e-02],\n",
       "                        [-9.9388e-02,  7.9775e-02,  2.8093e-02]],\n",
       "              \n",
       "                       [[ 2.0914e-02,  2.3766e-02,  5.8475e-02],\n",
       "                        [-5.3144e-02, -4.6691e-02, -7.9353e-03],\n",
       "                        [ 4.5929e-02, -5.6221e-02,  5.5051e-02]],\n",
       "              \n",
       "                       [[-7.4618e-03, -8.4925e-02,  1.3883e-02],\n",
       "                        [-2.7341e-02,  4.3232e-02,  4.2933e-02],\n",
       "                        [-9.7461e-02,  3.8798e-02,  2.5683e-02]],\n",
       "              \n",
       "                       [[ 9.0981e-02, -3.9369e-02,  5.3534e-02],\n",
       "                        [-9.6720e-02, -5.2542e-02,  9.0717e-02],\n",
       "                        [-3.0493e-02, -1.4973e-02, -9.3206e-02]],\n",
       "              \n",
       "                       [[ 1.5898e-02, -9.4927e-02, -8.7279e-02],\n",
       "                        [-2.6657e-02, -3.7775e-02,  1.6267e-02],\n",
       "                        [ 8.0532e-02, -7.9969e-02,  7.3138e-02]],\n",
       "              \n",
       "                       [[-2.8362e-02, -2.7184e-02,  1.0335e-01],\n",
       "                        [ 1.6814e-03,  1.9289e-02, -7.3441e-02],\n",
       "                        [ 5.9600e-03, -6.6543e-02,  4.1140e-02]]],\n",
       "              \n",
       "              \n",
       "                      [[[ 5.0896e-02,  3.7916e-02, -5.1179e-02],\n",
       "                        [ 9.1455e-02,  5.3728e-02, -2.3174e-02],\n",
       "                        [ 3.2723e-02,  4.5518e-02,  1.0018e-01]],\n",
       "              \n",
       "                       [[-1.1754e-02,  4.1586e-03, -3.2334e-02],\n",
       "                        [-5.8226e-02, -2.0622e-02,  1.0484e-01],\n",
       "                        [-6.7713e-02, -4.6180e-02, -1.5751e-02]],\n",
       "              \n",
       "                       [[ 5.6909e-02, -1.0238e-01,  7.8946e-03],\n",
       "                        [ 7.8470e-02, -4.3843e-02,  5.3940e-02],\n",
       "                        [ 2.7355e-02, -9.1410e-03,  2.1961e-02]],\n",
       "              \n",
       "                       [[ 8.9364e-02,  3.0035e-02,  1.2909e-02],\n",
       "                        [ 5.0113e-02, -4.1279e-02, -5.0049e-02],\n",
       "                        [-9.3921e-02,  8.1264e-02, -1.9319e-02]],\n",
       "              \n",
       "                       [[ 7.7558e-02, -1.0024e-01,  1.1603e-02],\n",
       "                        [-7.8478e-02, -9.3177e-03,  8.8075e-02],\n",
       "                        [-8.8647e-02,  9.5542e-02,  9.8212e-02]],\n",
       "              \n",
       "                       [[-3.2384e-02, -2.9133e-02, -5.4156e-02],\n",
       "                        [-8.8814e-02,  9.6667e-02, -5.6613e-02],\n",
       "                        [-1.8132e-02, -1.0812e-02,  3.5596e-02]],\n",
       "              \n",
       "                       [[ 1.2799e-02,  9.1935e-02,  7.0304e-02],\n",
       "                        [ 5.5697e-02, -5.4591e-02, -8.2412e-03],\n",
       "                        [ 3.1931e-02,  6.8780e-02,  6.1575e-02]],\n",
       "              \n",
       "                       [[-8.1124e-02,  9.9753e-02, -9.6636e-02],\n",
       "                        [ 1.0190e-01, -1.0449e-01,  6.5125e-02],\n",
       "                        [-1.6219e-02, -7.5041e-02,  6.6303e-02]],\n",
       "              \n",
       "                       [[-9.5754e-02,  5.7383e-02,  2.9683e-02],\n",
       "                        [ 6.0698e-02,  8.4394e-02, -8.7308e-03],\n",
       "                        [ 1.0179e-01, -4.0763e-02, -1.5449e-02]],\n",
       "              \n",
       "                       [[-2.2528e-02,  4.0898e-02, -8.1526e-02],\n",
       "                        [ 9.9380e-02,  4.3185e-02, -6.8494e-02],\n",
       "                        [ 7.4163e-02, -6.5265e-03, -3.2428e-02]]],\n",
       "              \n",
       "              \n",
       "                      [[[-9.8072e-02,  1.6232e-02,  5.5740e-03],\n",
       "                        [ 8.6792e-02,  1.0515e-01, -7.0728e-02],\n",
       "                        [ 8.2081e-02, -6.6323e-02,  1.0130e-01]],\n",
       "              \n",
       "                       [[ 3.1728e-02, -1.8970e-02,  2.8661e-02],\n",
       "                        [ 9.2019e-02,  3.1030e-02,  2.5103e-02],\n",
       "                        [ 7.1174e-02,  5.3693e-03,  2.6002e-02]],\n",
       "              \n",
       "                       [[-1.0348e-01, -4.2997e-02, -4.0267e-03],\n",
       "                        [ 4.6423e-02,  2.1680e-02,  2.9703e-02],\n",
       "                        [ 4.7953e-02, -4.6825e-02,  4.5881e-03]],\n",
       "              \n",
       "                       [[ 2.1233e-02,  7.8933e-03,  5.3912e-03],\n",
       "                        [ 3.9213e-03, -4.4442e-02, -3.8104e-02],\n",
       "                        [-9.0348e-02,  6.5917e-02, -2.6361e-02]],\n",
       "              \n",
       "                       [[ 3.5800e-02,  7.4258e-02, -8.6201e-02],\n",
       "                        [-1.3450e-02, -4.0037e-02,  7.5526e-02],\n",
       "                        [ 4.4820e-02,  6.4300e-02, -2.5296e-02]],\n",
       "              \n",
       "                       [[ 6.5050e-02, -2.2999e-02,  5.6404e-02],\n",
       "                        [-6.2716e-02, -5.2771e-02,  7.7802e-02],\n",
       "                        [-4.4564e-02, -6.0048e-02,  9.3003e-02]],\n",
       "              \n",
       "                       [[ 1.2036e-02,  2.5800e-02, -2.0545e-02],\n",
       "                        [ 8.7597e-02, -9.0265e-02,  2.8270e-02],\n",
       "                        [-7.5349e-02, -5.5035e-02,  3.2271e-04]],\n",
       "              \n",
       "                       [[ 3.0190e-02,  5.9462e-02,  6.2977e-02],\n",
       "                        [-7.2404e-02, -1.2498e-02,  4.8179e-02],\n",
       "                        [-6.6587e-02,  5.4738e-03, -3.9384e-02]],\n",
       "              \n",
       "                       [[ 9.7926e-02, -9.4513e-02, -3.4042e-02],\n",
       "                        [ 4.6035e-02,  6.2599e-02,  4.1768e-02],\n",
       "                        [ 8.9496e-02,  9.8273e-02, -1.7531e-02]],\n",
       "              \n",
       "                       [[ 9.8533e-03,  2.9736e-02, -8.3894e-02],\n",
       "                        [-6.7758e-02,  2.5357e-02, -5.5781e-02],\n",
       "                        [ 2.7374e-03,  7.3749e-02,  9.4847e-03]]],\n",
       "              \n",
       "              \n",
       "                      [[[ 5.4131e-02, -6.4923e-02,  2.2071e-02],\n",
       "                        [-8.8208e-02,  8.1290e-02,  3.9434e-02],\n",
       "                        [-5.3216e-02, -4.7952e-02, -5.7300e-02]],\n",
       "              \n",
       "                       [[ 6.2409e-02, -1.0313e-01,  9.8453e-02],\n",
       "                        [ 8.1616e-02, -1.0383e-01,  3.6327e-02],\n",
       "                        [-3.3274e-02, -9.3447e-02, -6.8993e-02]],\n",
       "              \n",
       "                       [[-7.1717e-02, -1.6784e-02,  1.3831e-02],\n",
       "                        [ 7.4863e-02, -1.2270e-03, -3.0121e-02],\n",
       "                        [ 8.9743e-03, -5.4655e-02,  9.0636e-02]],\n",
       "              \n",
       "                       [[ 8.1406e-03,  6.2019e-02, -2.5494e-02],\n",
       "                        [ 4.9596e-02,  7.2706e-02, -1.9071e-02],\n",
       "                        [ 9.4031e-02, -5.1478e-02,  2.6050e-02]],\n",
       "              \n",
       "                       [[ 4.2254e-03,  1.9718e-02, -1.0001e-02],\n",
       "                        [-2.5745e-02, -3.0186e-02, -3.0440e-02],\n",
       "                        [ 5.9911e-02,  1.0534e-02,  7.5019e-02]],\n",
       "              \n",
       "                       [[ 9.5820e-02,  8.5764e-02, -4.9607e-02],\n",
       "                        [-5.9266e-02, -4.1667e-02,  1.4931e-02],\n",
       "                        [ 3.0761e-02,  7.1781e-02,  3.7667e-02]],\n",
       "              \n",
       "                       [[-8.8199e-02,  8.0469e-02, -1.0032e-01],\n",
       "                        [-7.4546e-02, -2.0130e-02,  2.7485e-04],\n",
       "                        [ 7.4888e-03,  3.1495e-02, -6.6636e-02]],\n",
       "              \n",
       "                       [[ 7.0045e-02, -3.1978e-02,  4.2771e-02],\n",
       "                        [ 2.6051e-02,  9.8011e-02,  7.6768e-03],\n",
       "                        [-8.9808e-02, -5.7661e-02, -3.4415e-02]],\n",
       "              \n",
       "                       [[ 3.0044e-02,  8.3569e-02,  6.5408e-02],\n",
       "                        [ 5.5055e-03,  1.0503e-01, -2.7991e-02],\n",
       "                        [-6.5620e-02,  8.5040e-02,  3.8305e-02]],\n",
       "              \n",
       "                       [[ 2.5615e-02,  5.0063e-02, -7.3008e-02],\n",
       "                        [-6.4567e-02,  9.2347e-02, -5.1739e-02],\n",
       "                        [-7.7137e-03, -4.7864e-02, -6.7123e-02]]],\n",
       "              \n",
       "              \n",
       "                      [[[-2.0386e-02, -8.9280e-02,  6.4094e-02],\n",
       "                        [-2.8076e-02,  3.1246e-02,  3.0294e-02],\n",
       "                        [ 5.5704e-02, -5.6813e-02,  1.0063e-01]],\n",
       "              \n",
       "                       [[-2.7651e-02, -1.3963e-02, -6.9704e-03],\n",
       "                        [ 4.1850e-02,  9.3386e-02,  8.4584e-02],\n",
       "                        [ 4.1843e-02, -7.5377e-03, -8.3081e-02]],\n",
       "              \n",
       "                       [[-1.1484e-04, -9.4468e-02,  4.8092e-02],\n",
       "                        [ 1.9522e-02,  7.4291e-03, -7.0534e-02],\n",
       "                        [ 7.2349e-02, -1.2187e-02, -7.0664e-03]],\n",
       "              \n",
       "                       [[-1.2615e-02, -1.0268e-01, -1.4162e-02],\n",
       "                        [ 8.7981e-03,  3.9620e-02, -1.8166e-03],\n",
       "                        [ 4.8324e-02,  8.5964e-02,  1.8186e-02]],\n",
       "              \n",
       "                       [[-4.8342e-02,  1.0242e-01,  9.6671e-02],\n",
       "                        [-4.0209e-02,  2.9211e-02, -4.3386e-02],\n",
       "                        [-1.0144e-01, -5.8803e-02,  1.0261e-01]],\n",
       "              \n",
       "                       [[-1.0044e-01,  3.9773e-02, -1.6311e-02],\n",
       "                        [-2.1041e-02, -3.5775e-02,  7.6874e-02],\n",
       "                        [ 3.5490e-02,  4.9089e-02, -7.5426e-02]],\n",
       "              \n",
       "                       [[-1.6529e-02,  8.8182e-02,  2.8037e-02],\n",
       "                        [-6.3374e-02,  1.1840e-02, -9.6821e-02],\n",
       "                        [ 5.3885e-02, -7.7282e-02,  3.5166e-02]],\n",
       "              \n",
       "                       [[-4.4370e-02,  6.1795e-03,  1.1334e-02],\n",
       "                        [ 1.0370e-01, -7.9721e-02,  1.7324e-02],\n",
       "                        [ 1.0091e-01,  4.3020e-02,  2.9470e-02]],\n",
       "              \n",
       "                       [[-4.5099e-02, -4.9520e-02, -6.0239e-02],\n",
       "                        [-4.2031e-02, -3.7677e-02, -3.6514e-02],\n",
       "                        [-6.0730e-02, -4.0469e-02,  3.8556e-02]],\n",
       "              \n",
       "                       [[ 1.6328e-02,  9.4894e-02, -6.7298e-02],\n",
       "                        [ 7.9884e-02,  7.2451e-02, -4.2371e-02],\n",
       "                        [ 5.9646e-02,  1.1086e-02,  1.4557e-02]]],\n",
       "              \n",
       "              \n",
       "                      [[[ 1.0978e-03, -6.5431e-02,  6.2483e-02],\n",
       "                        [-7.9201e-02, -2.4500e-02, -3.6273e-02],\n",
       "                        [ 9.5576e-05, -6.1368e-02,  2.1003e-02]],\n",
       "              \n",
       "                       [[ 9.8570e-02,  8.1979e-02, -9.1567e-02],\n",
       "                        [ 1.5684e-04, -3.9892e-02,  8.0097e-03],\n",
       "                        [-9.7408e-02,  7.5109e-02, -4.2636e-02]],\n",
       "              \n",
       "                       [[-5.9510e-02,  6.5090e-02, -5.1710e-03],\n",
       "                        [-8.5582e-02,  5.7995e-02,  6.7210e-02],\n",
       "                        [ 5.8283e-02, -2.7190e-02,  5.2220e-02]],\n",
       "              \n",
       "                       [[ 5.9446e-02,  5.2521e-04, -1.5164e-02],\n",
       "                        [ 6.6624e-02, -4.7760e-02, -5.0087e-02],\n",
       "                        [ 7.5940e-02,  9.2683e-03,  6.5395e-02]],\n",
       "              \n",
       "                       [[-5.1640e-02,  8.9108e-03, -1.9913e-03],\n",
       "                        [ 1.7981e-02,  4.0958e-03, -3.5752e-02],\n",
       "                        [-7.1076e-02,  9.5246e-02,  6.4144e-04]],\n",
       "              \n",
       "                       [[-4.7143e-02, -8.7429e-03, -8.1919e-02],\n",
       "                        [ 1.0489e-01,  4.9856e-03, -3.6397e-02],\n",
       "                        [ 4.2639e-02, -6.6700e-02,  4.7940e-02]],\n",
       "              \n",
       "                       [[ 8.7667e-02, -4.0142e-02,  3.3219e-03],\n",
       "                        [-8.8234e-02,  2.9871e-02, -3.2514e-02],\n",
       "                        [ 1.8394e-02, -2.8146e-02,  6.5919e-02]],\n",
       "              \n",
       "                       [[-5.7720e-02, -5.3566e-03, -6.8374e-02],\n",
       "                        [-2.8952e-02,  9.9828e-02,  4.1397e-02],\n",
       "                        [ 4.1948e-02,  9.4625e-03, -9.1137e-02]],\n",
       "              \n",
       "                       [[-1.8090e-03, -4.6576e-02,  8.4715e-02],\n",
       "                        [-3.2372e-02, -6.8956e-02, -4.9980e-02],\n",
       "                        [ 3.6799e-02,  8.2872e-02, -9.5001e-02]],\n",
       "              \n",
       "                       [[ 1.0075e-02,  9.7156e-02, -8.7372e-02],\n",
       "                        [ 4.2163e-03,  6.9960e-02, -8.5765e-02],\n",
       "                        [ 3.0381e-02,  2.7096e-02, -7.6840e-02]]],\n",
       "              \n",
       "              \n",
       "                      [[[-8.4661e-02, -8.7104e-02,  3.7151e-02],\n",
       "                        [-9.2124e-02, -5.0388e-02, -1.9424e-03],\n",
       "                        [ 1.2792e-02,  9.5882e-02,  8.6198e-02]],\n",
       "              \n",
       "                       [[ 1.4350e-02,  1.0165e-01,  4.5425e-03],\n",
       "                        [-3.4222e-02,  9.8248e-03, -5.9321e-02],\n",
       "                        [ 1.6307e-02, -6.6190e-02,  3.8500e-02]],\n",
       "              \n",
       "                       [[ 7.2324e-02, -2.5341e-02, -6.5243e-02],\n",
       "                        [-4.1618e-02, -6.6062e-02, -8.0053e-02],\n",
       "                        [ 8.0778e-02, -7.5531e-02, -6.6795e-02]],\n",
       "              \n",
       "                       [[ 2.4660e-03, -9.6599e-02, -6.8280e-02],\n",
       "                        [ 8.8382e-02,  1.0577e-02,  9.3070e-02],\n",
       "                        [-2.1462e-02,  8.9307e-02, -7.5621e-02]],\n",
       "              \n",
       "                       [[-6.9328e-02, -7.0377e-02,  1.0140e-01],\n",
       "                        [-6.0715e-02,  6.2667e-02,  2.0809e-02],\n",
       "                        [-1.0479e-01, -9.6497e-02, -5.0318e-03]],\n",
       "              \n",
       "                       [[ 9.6373e-03,  8.4188e-02,  3.1507e-02],\n",
       "                        [-3.9588e-02,  3.5034e-02, -9.2354e-02],\n",
       "                        [ 9.6005e-02, -9.5092e-03, -2.5697e-02]],\n",
       "              \n",
       "                       [[-3.6902e-02, -4.7392e-02,  6.7288e-02],\n",
       "                        [-5.8271e-03,  5.4309e-02,  8.6138e-02],\n",
       "                        [ 5.3674e-02,  8.7228e-02,  6.9008e-02]],\n",
       "              \n",
       "                       [[-1.2703e-03,  3.7442e-02,  1.0196e-01],\n",
       "                        [ 8.9792e-02, -9.1676e-02,  3.6726e-03],\n",
       "                        [ 3.1997e-02, -1.4413e-02, -7.1995e-02]],\n",
       "              \n",
       "                       [[ 9.8076e-02,  4.0422e-02, -7.5020e-02],\n",
       "                        [-2.7101e-02, -3.6200e-02, -1.4123e-02],\n",
       "                        [ 1.9592e-02,  2.1564e-02, -1.1938e-03]],\n",
       "              \n",
       "                       [[-3.1147e-02,  9.9454e-03, -4.4446e-02],\n",
       "                        [-4.5715e-02,  2.4031e-02, -1.3063e-02],\n",
       "                        [-8.1543e-02, -7.6573e-02, -6.4804e-02]]],\n",
       "              \n",
       "              \n",
       "                      [[[-8.6837e-02, -6.9366e-02,  6.7829e-02],\n",
       "                        [ 1.0162e-02, -7.4938e-02,  2.9227e-02],\n",
       "                        [ 3.8577e-02, -8.1129e-02, -5.2511e-02]],\n",
       "              \n",
       "                       [[ 7.9618e-02, -7.8808e-02, -3.0227e-02],\n",
       "                        [ 5.9768e-02, -2.4413e-02,  8.3710e-02],\n",
       "                        [-7.9987e-02, -5.1840e-02, -2.2721e-02]],\n",
       "              \n",
       "                       [[-1.0520e-01, -3.1532e-02, -8.9820e-02],\n",
       "                        [-5.0855e-02,  2.6712e-02, -4.4995e-02],\n",
       "                        [ 2.6174e-02, -8.7249e-02, -3.2100e-02]],\n",
       "              \n",
       "                       [[-9.5611e-02,  1.5039e-02, -2.9445e-02],\n",
       "                        [ 4.2283e-02,  3.3638e-02, -7.4611e-02],\n",
       "                        [ 7.7737e-03, -1.9322e-02,  3.0294e-02]],\n",
       "              \n",
       "                       [[-4.2061e-02, -7.0869e-02, -7.5703e-03],\n",
       "                        [-1.1611e-02, -3.9387e-03,  4.1109e-02],\n",
       "                        [ 6.0871e-02, -2.6671e-02, -8.4156e-02]],\n",
       "              \n",
       "                       [[ 1.0377e-01,  3.4108e-02, -5.0491e-03],\n",
       "                        [-8.2331e-02,  9.8441e-02, -2.5122e-02],\n",
       "                        [ 4.3563e-02,  5.4061e-02,  2.5992e-02]],\n",
       "              \n",
       "                       [[ 1.0483e-01,  1.2335e-02, -8.5248e-02],\n",
       "                        [-6.1692e-02, -5.2847e-03,  8.1215e-02],\n",
       "                        [-1.5748e-02, -9.0607e-02,  6.0854e-02]],\n",
       "              \n",
       "                       [[-2.0420e-02,  8.3513e-02, -7.6533e-02],\n",
       "                        [-1.0606e-02, -6.7337e-02, -9.5773e-02],\n",
       "                        [ 9.9575e-02, -6.3838e-02, -3.4330e-02]],\n",
       "              \n",
       "                       [[ 5.4729e-02, -1.7300e-02, -9.7550e-02],\n",
       "                        [ 2.8811e-02, -5.5898e-02,  6.1719e-02],\n",
       "                        [ 3.1729e-02, -6.6005e-02, -7.6176e-02]],\n",
       "              \n",
       "                       [[-9.9121e-02, -7.3659e-02,  7.1009e-02],\n",
       "                        [-3.0117e-02, -4.5526e-02, -5.6779e-02],\n",
       "                        [ 1.8670e-02,  4.2209e-02,  1.3694e-02]]],\n",
       "              \n",
       "              \n",
       "                      [[[-3.5288e-02, -2.6220e-02, -8.6506e-02],\n",
       "                        [-7.4170e-02, -4.5558e-02,  9.8956e-02],\n",
       "                        [ 3.7692e-02, -3.7993e-02, -4.7950e-02]],\n",
       "              \n",
       "                       [[-9.8025e-02, -2.0901e-02,  3.6342e-02],\n",
       "                        [ 9.4110e-02,  7.4802e-02,  5.5680e-02],\n",
       "                        [ 4.4102e-02, -8.3919e-02,  8.9583e-03]],\n",
       "              \n",
       "                       [[ 1.0390e-01, -3.7391e-02, -8.0178e-02],\n",
       "                        [ 1.0147e-01, -6.4049e-03,  1.4180e-03],\n",
       "                        [ 8.7099e-02, -8.1731e-02,  1.4632e-02]],\n",
       "              \n",
       "                       [[-1.8331e-02, -7.7003e-02, -4.2987e-02],\n",
       "                        [ 7.1357e-02,  1.0187e-01, -3.8645e-02],\n",
       "                        [-2.8734e-02,  2.4429e-02,  3.2129e-02]],\n",
       "              \n",
       "                       [[-2.6784e-02,  3.0284e-03,  8.2723e-03],\n",
       "                        [ 2.1102e-02, -1.0526e-01, -3.5849e-02],\n",
       "                        [ 6.0689e-02, -4.9536e-03, -5.0941e-02]],\n",
       "              \n",
       "                       [[ 3.8563e-02, -1.0195e-01, -9.3685e-02],\n",
       "                        [ 8.5641e-02, -8.7667e-02,  2.6128e-02],\n",
       "                        [ 2.5233e-02, -4.6632e-02, -2.8643e-02]],\n",
       "              \n",
       "                       [[-1.5018e-02, -7.7199e-02, -4.3717e-02],\n",
       "                        [ 7.0100e-02, -7.7648e-02,  3.8723e-02],\n",
       "                        [ 8.7496e-02,  1.7743e-02,  4.5218e-02]],\n",
       "              \n",
       "                       [[-8.7814e-02, -6.6570e-02, -5.6468e-02],\n",
       "                        [ 6.5209e-02,  8.8787e-02,  5.5853e-02],\n",
       "                        [ 9.5958e-02, -3.9911e-02,  6.8615e-02]],\n",
       "              \n",
       "                       [[-4.6345e-03,  1.7740e-02, -4.1515e-02],\n",
       "                        [ 5.6744e-03, -7.0003e-02,  3.8065e-02],\n",
       "                        [ 4.4489e-02,  4.0325e-02, -1.0429e-01]],\n",
       "              \n",
       "                       [[ 1.4729e-02, -4.4165e-02,  4.7032e-02],\n",
       "                        [-1.8241e-02, -6.4223e-02, -8.5013e-02],\n",
       "                        [-8.4919e-02,  9.6073e-02, -5.0504e-02]]]], device='cuda:0')),\n",
       "             ('conv_block_2.0.bias',\n",
       "              tensor([ 0.0584,  0.0613, -0.0588,  0.0285, -0.0010,  0.0435, -0.0865, -0.1018,\n",
       "                       0.0437, -0.0654], device='cuda:0')),\n",
       "             ('conv_block_2.2.weight',\n",
       "              tensor([[[[ 2.8000e-02, -1.0474e-01, -9.2453e-02],\n",
       "                        [-2.3697e-02, -1.0321e-01,  5.3006e-02],\n",
       "                        [-5.5678e-02, -6.3297e-03, -1.7452e-02]],\n",
       "              \n",
       "                       [[-9.4075e-02,  4.0902e-02,  1.6778e-02],\n",
       "                        [-2.3960e-02,  7.5232e-02, -9.4881e-02],\n",
       "                        [ 6.2981e-02, -3.6357e-02,  5.6424e-03]],\n",
       "              \n",
       "                       [[-1.0364e-01,  3.9047e-02,  3.6573e-02],\n",
       "                        [ 8.1301e-02, -6.3852e-02,  1.0433e-01],\n",
       "                        [ 4.0184e-02,  1.5144e-02,  9.9398e-02]],\n",
       "              \n",
       "                       [[ 9.6493e-02, -5.8334e-02, -2.4022e-03],\n",
       "                        [-1.8708e-02, -8.5640e-02, -7.0642e-02],\n",
       "                        [ 7.5252e-02, -3.2854e-02,  1.0150e-01]],\n",
       "              \n",
       "                       [[ 5.2754e-02,  6.9625e-02,  1.1515e-02],\n",
       "                        [-7.9671e-02,  4.1893e-02,  2.2058e-02],\n",
       "                        [ 5.2345e-02, -1.3414e-02,  8.8532e-02]],\n",
       "              \n",
       "                       [[-2.1304e-02,  6.4079e-02, -7.0684e-02],\n",
       "                        [-9.4039e-02,  4.7534e-02,  6.9372e-03],\n",
       "                        [ 4.1529e-02, -6.0585e-02, -6.2631e-02]],\n",
       "              \n",
       "                       [[-1.2780e-02,  6.1432e-02, -5.8658e-02],\n",
       "                        [ 2.2923e-02, -1.0487e-01,  1.5774e-02],\n",
       "                        [-9.4194e-02,  3.4155e-02, -7.0669e-02]],\n",
       "              \n",
       "                       [[ 4.6235e-03, -6.5180e-02,  8.8979e-02],\n",
       "                        [-6.7593e-02,  3.7835e-02, -3.6467e-02],\n",
       "                        [-9.8071e-02,  2.4536e-02,  3.7845e-02]],\n",
       "              \n",
       "                       [[-3.8139e-02,  6.9141e-02, -6.2817e-02],\n",
       "                        [ 4.3619e-02,  7.7778e-02,  1.0248e-02],\n",
       "                        [ 2.1070e-02, -5.2740e-02, -5.1092e-02]],\n",
       "              \n",
       "                       [[-5.0487e-02,  8.6155e-02,  3.5754e-02],\n",
       "                        [-7.7831e-02, -1.0245e-01,  1.9429e-02],\n",
       "                        [ 9.2100e-02, -7.5244e-02, -5.9832e-02]]],\n",
       "              \n",
       "              \n",
       "                      [[[ 4.7292e-02, -7.0106e-02, -6.2401e-02],\n",
       "                        [ 9.0154e-03, -6.2444e-02, -1.7803e-02],\n",
       "                        [ 7.0563e-03,  8.9892e-02,  4.5077e-02]],\n",
       "              \n",
       "                       [[-6.3830e-02,  8.1811e-02, -2.1469e-02],\n",
       "                        [ 9.5025e-02, -8.4773e-03, -9.7000e-02],\n",
       "                        [-2.6418e-02, -3.9641e-02, -1.5990e-02]],\n",
       "              \n",
       "                       [[ 2.9479e-02, -5.1171e-02,  2.5381e-02],\n",
       "                        [ 6.4475e-02, -7.3440e-02, -1.0532e-01],\n",
       "                        [-8.3895e-02, -3.2420e-02, -1.5298e-03]],\n",
       "              \n",
       "                       [[-2.7440e-02,  7.7536e-02,  4.6908e-02],\n",
       "                        [ 5.8646e-03,  4.6065e-02, -1.0033e-01],\n",
       "                        [ 1.4657e-02,  7.0009e-02, -3.2872e-02]],\n",
       "              \n",
       "                       [[-1.0086e-01, -1.0488e-01,  1.9812e-02],\n",
       "                        [-7.1828e-04, -1.3672e-02,  6.0659e-02],\n",
       "                        [-7.6117e-02,  6.8633e-02, -2.9064e-02]],\n",
       "              \n",
       "                       [[-8.4275e-02, -2.5326e-02,  9.6128e-02],\n",
       "                        [ 1.1386e-02, -9.3196e-02, -4.8770e-02],\n",
       "                        [-2.5916e-03,  4.9678e-02, -4.1445e-02]],\n",
       "              \n",
       "                       [[-3.4929e-02, -3.3861e-04, -5.1875e-02],\n",
       "                        [-4.8740e-02, -2.5037e-02,  8.2816e-02],\n",
       "                        [-1.7896e-02,  3.4449e-02, -2.0508e-02]],\n",
       "              \n",
       "                       [[-4.1853e-02, -8.2043e-02, -7.2680e-02],\n",
       "                        [ 5.0089e-02, -3.2843e-03, -3.3228e-02],\n",
       "                        [ 9.0955e-02,  8.9005e-03,  6.3759e-03]],\n",
       "              \n",
       "                       [[ 5.9000e-02, -9.2813e-03, -9.6190e-02],\n",
       "                        [ 5.4274e-02,  7.9116e-02,  8.8667e-02],\n",
       "                        [ 4.2578e-03,  1.0229e-01, -1.1534e-02]],\n",
       "              \n",
       "                       [[-1.0412e-01,  1.5470e-02, -8.7590e-02],\n",
       "                        [ 7.5388e-02, -1.0179e-01,  3.2801e-02],\n",
       "                        [-1.2696e-02, -6.3972e-03,  9.8566e-02]]],\n",
       "              \n",
       "              \n",
       "                      [[[ 4.1060e-02, -6.4332e-02,  7.7701e-02],\n",
       "                        [-8.7480e-02, -2.2523e-02, -4.0586e-02],\n",
       "                        [ 5.8569e-02, -3.5958e-02,  1.4075e-02]],\n",
       "              \n",
       "                       [[-1.0170e-01,  4.3676e-02, -5.6837e-02],\n",
       "                        [ 7.7060e-02,  2.0918e-02, -9.3483e-02],\n",
       "                        [ 8.0774e-02,  4.2790e-02,  2.8897e-02]],\n",
       "              \n",
       "                       [[ 3.1500e-02,  9.3693e-02, -9.0535e-02],\n",
       "                        [-7.4815e-02,  4.3204e-02, -2.0298e-02],\n",
       "                        [ 6.7348e-02, -9.4389e-02,  7.8729e-03]],\n",
       "              \n",
       "                       [[ 2.3055e-02,  1.5371e-02,  4.0881e-03],\n",
       "                        [-1.0101e-01, -7.7244e-02,  2.7521e-02],\n",
       "                        [-3.8839e-02, -8.6314e-02,  1.2836e-02]],\n",
       "              \n",
       "                       [[-7.9233e-02, -9.8824e-02,  3.9447e-02],\n",
       "                        [-8.9825e-03, -5.9944e-02, -3.8535e-02],\n",
       "                        [ 6.1843e-02, -3.3645e-02,  5.4737e-02]],\n",
       "              \n",
       "                       [[ 9.3835e-02, -5.3852e-02,  6.7033e-02],\n",
       "                        [ 5.0227e-02,  7.9744e-02, -9.3719e-02],\n",
       "                        [ 2.6527e-02,  6.3659e-03,  5.7674e-03]],\n",
       "              \n",
       "                       [[-7.4746e-02,  6.2884e-02, -8.4315e-02],\n",
       "                        [-1.0263e-01, -4.2453e-02,  6.8805e-02],\n",
       "                        [ 1.1288e-03, -1.7474e-02, -5.0955e-02]],\n",
       "              \n",
       "                       [[ 2.7502e-02, -1.2363e-02,  2.3824e-02],\n",
       "                        [ 5.6093e-02,  8.4304e-02, -9.4481e-02],\n",
       "                        [-5.5447e-02, -9.6801e-02, -6.6326e-02]],\n",
       "              \n",
       "                       [[-1.5922e-02,  3.9419e-02, -4.1839e-02],\n",
       "                        [ 5.0072e-02, -6.3271e-02, -5.2653e-02],\n",
       "                        [ 3.6589e-02, -5.6999e-02, -1.6729e-02]],\n",
       "              \n",
       "                       [[-3.8795e-02,  5.7013e-02, -5.0096e-02],\n",
       "                        [ 7.5433e-02,  2.8251e-02, -9.8382e-02],\n",
       "                        [-2.4042e-02,  4.2271e-02, -7.0834e-02]]],\n",
       "              \n",
       "              \n",
       "                      [[[-5.6706e-02, -2.2177e-03,  4.0160e-02],\n",
       "                        [ 8.2242e-02,  7.2677e-02, -7.5981e-02],\n",
       "                        [ 2.6441e-02,  1.9939e-02, -5.0794e-02]],\n",
       "              \n",
       "                       [[-7.1300e-02,  6.6549e-02,  2.4739e-03],\n",
       "                        [-4.9339e-02, -9.9217e-02, -7.7589e-02],\n",
       "                        [-3.2883e-02,  2.5091e-02, -1.0272e-01]],\n",
       "              \n",
       "                       [[ 6.1561e-02, -5.9730e-02,  1.6043e-02],\n",
       "                        [-3.8910e-02, -3.2570e-02,  5.7504e-02],\n",
       "                        [ 4.9419e-02, -8.5834e-02, -3.9730e-02]],\n",
       "              \n",
       "                       [[ 2.5478e-02, -8.4008e-02,  1.0209e-01],\n",
       "                        [ 5.0145e-02,  9.4048e-02,  4.9529e-03],\n",
       "                        [ 8.2849e-03,  9.8534e-02, -2.9728e-02]],\n",
       "              \n",
       "                       [[ 1.0256e-01,  6.7530e-02, -7.8603e-04],\n",
       "                        [ 1.8495e-02, -5.6410e-02, -3.6491e-02],\n",
       "                        [ 2.8178e-02, -1.4739e-02, -1.0312e-01]],\n",
       "              \n",
       "                       [[-1.0379e-02,  7.3188e-03, -1.0408e-01],\n",
       "                        [ 9.5500e-02,  3.3100e-02, -7.2025e-02],\n",
       "                        [ 7.5807e-02, -2.7470e-02,  6.4292e-02]],\n",
       "              \n",
       "                       [[ 3.7276e-02,  9.3667e-02, -1.4394e-03],\n",
       "                        [ 9.8997e-02,  1.2044e-02,  9.5186e-02],\n",
       "                        [ 5.3148e-02,  8.9757e-02, -5.3173e-02]],\n",
       "              \n",
       "                       [[-1.0135e-01, -4.2438e-02,  6.3185e-02],\n",
       "                        [-9.2613e-03, -8.1354e-02,  7.7625e-03],\n",
       "                        [ 1.6269e-02, -6.1359e-02,  2.2263e-02]],\n",
       "              \n",
       "                       [[ 8.5111e-02,  6.1009e-02, -6.4458e-02],\n",
       "                        [ 6.4317e-02, -4.1919e-02, -7.9251e-02],\n",
       "                        [ 7.2215e-03, -7.7383e-02,  3.6579e-02]],\n",
       "              \n",
       "                       [[-1.7893e-02,  4.8381e-02, -1.5090e-04],\n",
       "                        [-5.1164e-02,  7.5254e-02,  3.5229e-02],\n",
       "                        [ 1.5656e-03,  7.1486e-02, -3.6134e-02]]],\n",
       "              \n",
       "              \n",
       "                      [[[-1.0467e-01, -9.2479e-02, -4.7978e-02],\n",
       "                        [ 1.0398e-01,  1.8340e-02,  7.9862e-02],\n",
       "                        [-5.0510e-02, -8.9135e-02,  2.8312e-02]],\n",
       "              \n",
       "                       [[ 6.4897e-02,  6.6360e-02,  9.1178e-02],\n",
       "                        [-1.7353e-03,  9.7559e-03, -2.6423e-02],\n",
       "                        [-5.2499e-03,  2.2423e-02, -5.4779e-02]],\n",
       "              \n",
       "                       [[ 9.8526e-02,  9.3525e-02,  3.0960e-02],\n",
       "                        [-1.4309e-02, -2.0563e-02,  3.5373e-02],\n",
       "                        [-4.4427e-02,  9.8175e-02, -8.3697e-02]],\n",
       "              \n",
       "                       [[ 6.2055e-03, -4.3615e-02,  4.2601e-02],\n",
       "                        [-2.1350e-02, -5.0168e-02,  1.4520e-02],\n",
       "                        [-9.1166e-02,  7.2303e-02,  9.4078e-02]],\n",
       "              \n",
       "                       [[-2.3281e-02, -4.5256e-02, -8.0498e-02],\n",
       "                        [-1.0393e-01, -7.3027e-02, -1.3467e-02],\n",
       "                        [-8.8227e-02, -7.1456e-04, -3.8732e-02]],\n",
       "              \n",
       "                       [[ 1.0084e-01,  2.1861e-02, -1.0228e-01],\n",
       "                        [ 7.7436e-02,  9.6138e-02, -7.8866e-02],\n",
       "                        [ 3.7730e-02, -2.1758e-02,  3.9371e-03]],\n",
       "              \n",
       "                       [[ 7.7766e-02, -2.6357e-02, -5.1611e-02],\n",
       "                        [-7.5525e-02,  7.0748e-02, -1.8729e-02],\n",
       "                        [ 4.3917e-02, -1.6476e-02, -8.2003e-02]],\n",
       "              \n",
       "                       [[-1.6668e-02, -6.1795e-02,  8.5288e-02],\n",
       "                        [-4.4730e-02, -8.0857e-02,  4.4457e-02],\n",
       "                        [ 2.7455e-03,  7.6791e-02,  8.2102e-02]],\n",
       "              \n",
       "                       [[ 3.0904e-02, -8.7369e-02, -2.3359e-02],\n",
       "                        [-2.7382e-02,  5.7559e-02, -9.8241e-02],\n",
       "                        [-3.8218e-02,  9.2524e-02, -7.4001e-02]],\n",
       "              \n",
       "                       [[-7.6834e-03,  1.2885e-02, -8.6539e-02],\n",
       "                        [ 6.6108e-02,  1.6181e-02,  4.1063e-02],\n",
       "                        [ 5.4995e-02, -6.2979e-02,  1.0442e-01]]],\n",
       "              \n",
       "              \n",
       "                      [[[-9.8916e-02,  1.1973e-02, -1.0463e-02],\n",
       "                        [ 3.5198e-03, -4.6137e-02, -7.0217e-03],\n",
       "                        [-1.9555e-02,  1.0079e-01, -1.0153e-01]],\n",
       "              \n",
       "                       [[ 1.0255e-02, -8.2390e-02, -1.0284e-02],\n",
       "                        [-2.8152e-02, -1.0063e-01,  9.6366e-02],\n",
       "                        [-7.2443e-02, -2.4335e-02, -6.4165e-02]],\n",
       "              \n",
       "                       [[ 4.3957e-02,  7.1785e-02,  5.0468e-02],\n",
       "                        [-4.6416e-02,  3.9209e-02, -3.5237e-02],\n",
       "                        [ 8.5785e-02, -3.9143e-02, -6.0498e-02]],\n",
       "              \n",
       "                       [[ 1.8561e-02, -4.3937e-02,  3.8379e-02],\n",
       "                        [ 1.0017e-02,  2.4187e-02,  6.3980e-03],\n",
       "                        [-3.0077e-02, -3.3345e-03, -4.2966e-02]],\n",
       "              \n",
       "                       [[ 8.7605e-02,  1.3478e-02,  3.9983e-02],\n",
       "                        [-1.8296e-02, -4.5073e-02, -1.8769e-02],\n",
       "                        [ 3.1185e-02,  7.9687e-02, -6.8079e-02]],\n",
       "              \n",
       "                       [[ 1.1207e-02, -6.3456e-02,  3.2448e-02],\n",
       "                        [ 4.7117e-02,  1.6691e-03, -9.5496e-02],\n",
       "                        [-7.8231e-02, -9.2876e-02, -1.1397e-02]],\n",
       "              \n",
       "                       [[-7.9777e-03, -3.7358e-02, -5.7518e-03],\n",
       "                        [-5.6218e-02,  3.0397e-02, -6.3269e-02],\n",
       "                        [-2.8914e-02, -8.1413e-02,  2.4200e-02]],\n",
       "              \n",
       "                       [[ 5.0414e-02, -8.1386e-02,  2.9303e-02],\n",
       "                        [ 8.3231e-02,  2.9145e-02,  3.7631e-02],\n",
       "                        [-3.2564e-02,  7.5333e-02, -4.5805e-02]],\n",
       "              \n",
       "                       [[-3.2135e-03,  8.5899e-03, -4.7648e-02],\n",
       "                        [-2.5479e-02, -4.4100e-02,  9.3220e-02],\n",
       "                        [-7.0204e-02,  8.3953e-02, -2.6960e-02]],\n",
       "              \n",
       "                       [[ 8.4821e-03, -7.3594e-02,  1.3482e-02],\n",
       "                        [-5.3349e-02, -4.4426e-02, -2.5314e-02],\n",
       "                        [ 1.1389e-02,  1.0280e-01,  3.8948e-02]]],\n",
       "              \n",
       "              \n",
       "                      [[[-8.0919e-02, -7.6232e-02, -1.4719e-02],\n",
       "                        [ 6.6680e-02, -2.4138e-02,  1.0191e-01],\n",
       "                        [-9.7491e-02, -5.6899e-02, -9.9608e-02]],\n",
       "              \n",
       "                       [[ 1.0323e-01, -1.5824e-03,  1.2999e-02],\n",
       "                        [ 6.5966e-02,  3.2573e-04,  8.8726e-02],\n",
       "                        [ 7.5081e-02,  4.3278e-02,  1.0679e-02]],\n",
       "              \n",
       "                       [[ 1.5100e-02, -8.1759e-02,  7.3152e-02],\n",
       "                        [-3.8998e-02, -6.0594e-02, -6.8262e-02],\n",
       "                        [ 4.4876e-02,  8.4811e-02,  5.0830e-03]],\n",
       "              \n",
       "                       [[ 8.3482e-02, -1.0223e-02, -9.8893e-02],\n",
       "                        [-8.3973e-02, -9.7542e-02, -8.2564e-02],\n",
       "                        [ 6.3629e-02, -6.9345e-02,  6.1280e-03]],\n",
       "              \n",
       "                       [[ 7.7519e-02, -4.3193e-03, -6.2753e-02],\n",
       "                        [-2.0268e-02,  8.6527e-02,  4.7008e-02],\n",
       "                        [-8.9122e-02, -6.3298e-02, -8.4447e-02]],\n",
       "              \n",
       "                       [[ 2.2599e-02, -1.3227e-02, -5.6681e-02],\n",
       "                        [ 7.2271e-02, -6.8910e-02,  6.8645e-02],\n",
       "                        [-1.0379e-01, -3.4696e-02, -1.0290e-01]],\n",
       "              \n",
       "                       [[ 1.7076e-02,  5.4569e-03,  8.4477e-02],\n",
       "                        [ 7.5793e-02,  7.8568e-02, -7.5911e-02],\n",
       "                        [-5.5423e-02, -8.0205e-02,  9.8167e-02]],\n",
       "              \n",
       "                       [[ 7.2938e-02,  9.0885e-02,  2.7944e-02],\n",
       "                        [ 9.3965e-02, -9.9369e-02,  6.6841e-02],\n",
       "                        [-5.8851e-02,  2.7163e-02, -9.0363e-02]],\n",
       "              \n",
       "                       [[-5.1227e-02, -8.3252e-02,  7.5050e-02],\n",
       "                        [-4.5181e-02,  5.0076e-02, -8.9513e-02],\n",
       "                        [ 4.8613e-02,  6.7634e-02, -8.5473e-02]],\n",
       "              \n",
       "                       [[-1.0530e-01,  5.0357e-02, -2.1404e-02],\n",
       "                        [-8.8705e-02, -5.7486e-02, -7.0159e-02],\n",
       "                        [ 7.3001e-03,  4.8657e-02, -8.6556e-02]]],\n",
       "              \n",
       "              \n",
       "                      [[[ 9.6540e-02, -4.8939e-02, -5.0159e-02],\n",
       "                        [ 9.0616e-02, -9.9667e-02, -3.5826e-03],\n",
       "                        [-1.8414e-02,  8.0087e-02,  2.7344e-02]],\n",
       "              \n",
       "                       [[ 2.1839e-03, -1.2100e-02,  1.3133e-02],\n",
       "                        [ 5.0537e-02, -9.7418e-02,  9.4934e-02],\n",
       "                        [ 7.7539e-02,  8.0352e-02,  1.0176e-01]],\n",
       "              \n",
       "                       [[-1.8443e-02,  7.3450e-02,  3.2304e-03],\n",
       "                        [ 2.8793e-02,  3.6428e-02,  3.1423e-02],\n",
       "                        [ 5.0037e-02, -6.1442e-02, -4.7975e-04]],\n",
       "              \n",
       "                       [[-3.4363e-02, -9.7692e-02, -5.7591e-02],\n",
       "                        [-9.5506e-02,  6.0092e-02, -7.2786e-02],\n",
       "                        [ 4.2651e-02,  4.6891e-02, -7.6583e-02]],\n",
       "              \n",
       "                       [[-7.7180e-02,  2.4760e-02,  2.6721e-02],\n",
       "                        [-8.3226e-03, -9.5509e-02, -2.4109e-02],\n",
       "                        [-2.1529e-03, -9.4982e-02,  6.2443e-02]],\n",
       "              \n",
       "                       [[-6.4596e-02,  9.9566e-02,  6.0733e-02],\n",
       "                        [ 3.7730e-02,  1.0360e-01, -3.4610e-02],\n",
       "                        [-5.4468e-02, -3.5816e-03, -4.5044e-02]],\n",
       "              \n",
       "                       [[ 6.1199e-02,  3.1708e-02,  9.6327e-02],\n",
       "                        [ 9.0221e-02, -6.0928e-02,  3.6619e-02],\n",
       "                        [-8.1388e-02, -8.9924e-03, -3.3210e-02]],\n",
       "              \n",
       "                       [[ 9.9243e-03, -3.5656e-02, -6.8167e-03],\n",
       "                        [-5.6920e-02,  8.4250e-02,  1.0302e-01],\n",
       "                        [-2.3908e-03, -7.7733e-02,  9.0747e-02]],\n",
       "              \n",
       "                       [[-1.5078e-02, -3.7799e-02,  4.8905e-02],\n",
       "                        [ 6.1362e-02,  2.3038e-02,  5.4647e-02],\n",
       "                        [ 6.8386e-02,  1.0285e-01, -1.0498e-01]],\n",
       "              \n",
       "                       [[ 4.9502e-02, -2.6306e-02,  7.4138e-02],\n",
       "                        [-9.8098e-02,  8.3438e-02,  7.1014e-02],\n",
       "                        [-3.1532e-02,  1.8797e-02,  2.0128e-02]]],\n",
       "              \n",
       "              \n",
       "                      [[[-6.1514e-02, -8.7509e-02, -1.0477e-01],\n",
       "                        [-6.0518e-02, -6.4232e-02, -2.2447e-02],\n",
       "                        [ 6.8899e-02, -4.4929e-02, -3.5663e-02]],\n",
       "              \n",
       "                       [[-3.2081e-02, -7.6369e-02,  1.0099e-01],\n",
       "                        [-3.7655e-02, -4.0027e-02, -6.4240e-02],\n",
       "                        [ 8.7847e-02,  8.1417e-02, -9.6477e-02]],\n",
       "              \n",
       "                       [[ 8.1310e-02, -4.1044e-03, -6.2299e-02],\n",
       "                        [ 1.0252e-01,  2.2531e-02,  9.7519e-02],\n",
       "                        [-1.0346e-01, -1.6253e-02, -8.0242e-02]],\n",
       "              \n",
       "                       [[ 5.8716e-03,  1.0443e-02, -2.0531e-02],\n",
       "                        [-1.2208e-02, -6.7452e-02,  9.5964e-02],\n",
       "                        [ 5.9357e-02, -6.0313e-02, -8.0930e-02]],\n",
       "              \n",
       "                       [[-7.9817e-02, -8.7213e-02, -1.8888e-02],\n",
       "                        [ 3.1523e-02,  6.0502e-02,  6.8930e-02],\n",
       "                        [-2.8567e-02, -3.2787e-02,  6.9074e-02]],\n",
       "              \n",
       "                       [[ 1.2733e-02,  9.2677e-02, -8.1285e-02],\n",
       "                        [-1.0482e-03, -7.3228e-02,  5.0248e-02],\n",
       "                        [ 7.8947e-02,  5.8373e-02, -9.8552e-02]],\n",
       "              \n",
       "                       [[ 4.8600e-02,  9.5674e-02,  3.1765e-02],\n",
       "                        [ 7.9124e-02, -8.5853e-02,  7.0789e-02],\n",
       "                        [-6.8567e-02,  1.5596e-02, -2.6829e-02]],\n",
       "              \n",
       "                       [[-7.5933e-03,  1.2754e-02, -1.4568e-02],\n",
       "                        [-5.4927e-02, -8.5715e-02, -9.2796e-02],\n",
       "                        [ 7.4635e-03, -4.1451e-02, -7.6906e-02]],\n",
       "              \n",
       "                       [[-6.7675e-02,  5.2701e-02,  5.4687e-02],\n",
       "                        [-5.2392e-02, -4.0549e-02, -8.7346e-02],\n",
       "                        [-7.1707e-02,  8.6102e-02, -8.2992e-02]],\n",
       "              \n",
       "                       [[-5.1750e-02, -4.5641e-02, -6.8396e-02],\n",
       "                        [-6.4097e-02, -4.6954e-02, -8.3596e-02],\n",
       "                        [ 1.1253e-02,  5.4350e-02,  1.0753e-02]]],\n",
       "              \n",
       "              \n",
       "                      [[[ 9.9068e-02, -7.6636e-02,  1.0149e-01],\n",
       "                        [-9.8320e-02, -1.0539e-01, -5.0360e-02],\n",
       "                        [ 4.6649e-02,  5.6799e-03,  8.1794e-02]],\n",
       "              \n",
       "                       [[ 6.3233e-02,  1.0112e-01,  4.9000e-02],\n",
       "                        [-8.6363e-02, -6.1056e-02,  6.7610e-02],\n",
       "                        [-7.9304e-02,  8.0650e-02, -8.2290e-02]],\n",
       "              \n",
       "                       [[-4.3825e-02,  2.6805e-02, -1.0115e-01],\n",
       "                        [ 1.9476e-03,  7.8788e-02,  1.3309e-02],\n",
       "                        [-4.1750e-02, -1.1134e-02,  3.9969e-02]],\n",
       "              \n",
       "                       [[ 2.5380e-02, -6.0594e-02, -8.7594e-02],\n",
       "                        [ 1.8972e-02, -9.8893e-02, -7.2646e-02],\n",
       "                        [ 7.0289e-02, -8.8215e-02, -5.7989e-02]],\n",
       "              \n",
       "                       [[ 9.0360e-02, -8.4718e-02, -6.2566e-04],\n",
       "                        [-7.2028e-02, -6.1774e-02,  8.0148e-02],\n",
       "                        [ 7.7971e-02,  1.0299e-01,  1.0142e-01]],\n",
       "              \n",
       "                       [[-1.0218e-01,  1.9514e-02,  4.1474e-02],\n",
       "                        [ 4.7765e-02, -2.9056e-02, -4.4295e-02],\n",
       "                        [ 9.0623e-02,  4.9474e-02,  8.2898e-02]],\n",
       "              \n",
       "                       [[ 9.6411e-02, -5.2776e-02, -7.1890e-02],\n",
       "                        [-4.7518e-03,  8.7782e-02, -2.0324e-02],\n",
       "                        [ 2.2696e-02, -3.0906e-03,  1.5942e-02]],\n",
       "              \n",
       "                       [[-1.0534e-02,  4.8195e-02, -5.4184e-02],\n",
       "                        [-6.7129e-02, -8.5581e-02,  8.0971e-02],\n",
       "                        [-2.5344e-02, -4.8125e-03, -2.1458e-06]],\n",
       "              \n",
       "                       [[ 1.0528e-01,  7.0170e-02,  6.2786e-02],\n",
       "                        [-1.6053e-02,  1.5952e-02,  1.0034e-01],\n",
       "                        [-4.8054e-02,  7.9940e-02, -2.5452e-02]],\n",
       "              \n",
       "                       [[ 7.2112e-02, -7.8117e-02, -7.1892e-02],\n",
       "                        [-1.0460e-01,  5.7166e-02, -3.4523e-02],\n",
       "                        [ 8.8585e-02, -1.0439e-01,  9.3558e-02]]]], device='cuda:0')),\n",
       "             ('conv_block_2.2.bias',\n",
       "              tensor([-0.0489,  0.0942,  0.0863, -0.0350, -0.0788,  0.0552,  0.0179,  0.0173,\n",
       "                      -0.0617, -0.0730], device='cuda:0')),\n",
       "             ('classifier.1.weight',\n",
       "              tensor([[ 0.0043, -0.0027, -0.0451,  ...,  0.0292, -0.0154, -0.0345],\n",
       "                      [-0.0233,  0.0255,  0.0102,  ...,  0.0361, -0.0345, -0.0360],\n",
       "                      [-0.0334, -0.0107, -0.0204,  ..., -0.0255,  0.0236, -0.0125],\n",
       "                      ...,\n",
       "                      [ 0.0167,  0.0425,  0.0048,  ..., -0.0451, -0.0063,  0.0210],\n",
       "                      [-0.0028, -0.0091, -0.0341,  ...,  0.0426,  0.0282,  0.0379],\n",
       "                      [-0.0063,  0.0448,  0.0314,  ...,  0.0267,  0.0215, -0.0059]],\n",
       "                     device='cuda:0')),\n",
       "             ('classifier.1.bias',\n",
       "              tensor([ 0.0097, -0.0244,  0.0356, -0.0369, -0.0353, -0.0154, -0.0054,  0.0400,\n",
       "                       0.0351,  0.0120], device='cuda:0'))])"
      ]
     },
     "execution_count": 18,
     "metadata": {},
     "output_type": "execute_result"
    }
   ],
   "source": [
    "# Check out the model state dict\n",
    "model.state_dict()"
   ]
  },
  {
   "cell_type": "code",
   "execution_count": 19,
   "id": "ef1a2189-9d2f-4d36-801c-75d9aac9771b",
   "metadata": {},
   "outputs": [
    {
     "data": {
      "text/plain": [
       "tensor([[ 0.0365, -0.0024,  0.0549, -0.0478, -0.0197, -0.0234, -0.0351,  0.0368,\n",
       "          0.0034,  0.0122]], device='cuda:0', grad_fn=<AddmmBackward0>)"
      ]
     },
     "execution_count": 19,
     "metadata": {},
     "output_type": "execute_result"
    }
   ],
   "source": [
    "# Try a dummy forward pass\n",
    "torch.manual_seed(42)\n",
    "dummy_x=torch.rand(size=(1,28,28)).unsqueeze(dim=0).to(device)\n",
    "model(dummy_x)"
   ]
  },
  {
   "cell_type": "code",
   "execution_count": 20,
   "id": "5a04d351-6400-47df-9f95-e29c285043cb",
   "metadata": {},
   "outputs": [
    {
     "name": "stdout",
     "output_type": "stream",
     "text": [
      "torch.Size([1, 10, 7, 7])\n"
     ]
    },
    {
     "data": {
      "text/plain": [
       "torch.Size([1, 490])"
      ]
     },
     "execution_count": 20,
     "metadata": {},
     "output_type": "execute_result"
    }
   ],
   "source": [
    "torch.manual_seed(42)\n",
    "dummy_x_2=torch.rand(size=(1,10,7,7))\n",
    "print(dummy_x_2.shape)\n",
    "flatten_layer=nn.Flatten()\n",
    "flatten_layer(dummy_x_2).shape"
   ]
  },
  {
   "cell_type": "markdown",
   "id": "62ac147e-03bb-4895-8643-8ec744d45df9",
   "metadata": {},
   "source": [
    "## 9. Train the model you built in exercise 8. for 5 epochs on CPU and GPU and see how long it takes on each."
   ]
  },
  {
   "cell_type": "code",
   "execution_count": 21,
   "id": "0f884f0e-3712-4688-9211-cbdbddb03a03",
   "metadata": {},
   "outputs": [],
   "source": [
    "# Calculate acc fn\n",
    "def accuracy_fn(y_true,y_pred):\n",
    "    correct=torch.eq(y_true,y_pred).sum().item()\n",
    "    acc=(correct/len(y_pred))*100\n",
    "    return acc"
   ]
  },
  {
   "cell_type": "code",
   "execution_count": 22,
   "id": "f2ce056f-0f71-4b5e-ab43-a246be30ded0",
   "metadata": {},
   "outputs": [],
   "source": [
    "# Create train_step\n",
    "def train_step(model:torch.nn.Module,\n",
    "               data_loader:torch.utils.data.DataLoader,\n",
    "               loss_fn:torch.nn.Module,\n",
    "               optimizer:torch.optim.Optimizer,\n",
    "               accuracy_fn:accuracy_fn,\n",
    "               device:torch.device=device):\n",
    "    \n",
    "    train_loss,train_acc=0,0\n",
    "    \n",
    "    # Training\n",
    "    model.train()\n",
    "    \n",
    "    for batch,(X,y) in enumerate(data_loader):\n",
    "        \n",
    "        # Put the data to target device\n",
    "        X,y=X.to(device),y.to(device)\n",
    "\n",
    "        # Forward pass\n",
    "        y_pred=model(X)\n",
    "\n",
    "        # Calculate loss / acc fn\n",
    "        loss=loss_fn(y_pred,y)\n",
    "        train_loss+=loss\n",
    "        train_acc+=accuracy_fn(y_true=y,\n",
    "                    y_pred=y_pred.argmax(dim=1))\n",
    "\n",
    "        # optimizer reset\n",
    "        optimizer.zero_grad()\n",
    "\n",
    "        # backpropagation\n",
    "        loss.backward()\n",
    "\n",
    "        # optimizer step\n",
    "        optimizer.step()\n",
    "\n",
    "        # print out fn\n",
    "        if batch % 400 ==0:\n",
    "            print(f\"Looked at: {batch*len(X)}/{len(data_loader.dataset)} samples\")\n",
    "\n",
    "    # Divide the loss and acc per batch\n",
    "    train_loss/=len(data_loader)\n",
    "    train_acc/=len(data_loader)\n",
    "\n",
    "    print(f\"Train loss: {train_loss:.4f} | Train acc: {train_acc:.2f}%\")    "
   ]
  },
  {
   "cell_type": "code",
   "execution_count": 23,
   "id": "217e8de1-e46c-48b7-bca7-f4bcc4fcc503",
   "metadata": {},
   "outputs": [],
   "source": [
    "# Create test_step\n",
    "def test_step(model:torch.nn.Module,\n",
    "              data_loader:torch.utils.data.DataLoader,\n",
    "              loss_fn:torch.nn.Module,\n",
    "              accuracy_fn:accuracy_fn,\n",
    "              device:torch.device=device):\n",
    "    \n",
    "    test_acc,test_loss=0,0\n",
    "    \n",
    "    # Testing\n",
    "    model.eval()\n",
    "    \n",
    "    with torch.inference_mode():\n",
    "        for X,y in data_loader:\n",
    "\n",
    "            # Put the data to device\n",
    "            X,y=X.to(device),y.to(device)\n",
    "\n",
    "            # Forward pass\n",
    "            y_pred=model(X)\n",
    "\n",
    "            # Calculate loss / acc\n",
    "            test_loss+=loss_fn(y_pred,y)\n",
    "            test_acc+=accuracy_fn(y_true=y,\n",
    "                                  y_pred=y_pred.argmax(dim=1))\n",
    "\n",
    "        # Print out fn\n",
    "        test_loss/=len(data_loader)\n",
    "        test_acc/=len(data_loader)\n",
    "        \n",
    "    print(f\"Test loss: {test_loss:.4f} | Test acc: {test_acc:.2f}%\\n\")"
   ]
  },
  {
   "cell_type": "code",
   "execution_count": 24,
   "id": "bf643955-d78f-428a-98f8-4389bdd48497",
   "metadata": {},
   "outputs": [],
   "source": [
    "# Create running time cals\n",
    "def print_train_time(start:float,\n",
    "                     end:float,\n",
    "                     device:torch.device=device):\n",
    "    \n",
    "    total_time=end-start\n",
    "    print(f\"Total time on {device}: {total_time:.3f} seconds\")\n",
    "    return total_time   "
   ]
  },
  {
   "cell_type": "code",
   "execution_count": 25,
   "id": "c4b766d3-3608-4e7a-aec8-f6d07585209b",
   "metadata": {},
   "outputs": [
    {
     "data": {
      "text/plain": [
       "MnistModel(\n",
       "  (conv_block_1): Sequential(\n",
       "    (0): Conv2d(1, 10, kernel_size=(3, 3), stride=(1, 1), padding=(1, 1))\n",
       "    (1): ReLU()\n",
       "    (2): Conv2d(10, 10, kernel_size=(3, 3), stride=(1, 1), padding=(1, 1))\n",
       "    (3): ReLU()\n",
       "    (4): MaxPool2d(kernel_size=2, stride=2, padding=0, dilation=1, ceil_mode=False)\n",
       "  )\n",
       "  (conv_block_2): Sequential(\n",
       "    (0): Conv2d(10, 10, kernel_size=(3, 3), stride=(1, 1), padding=(1, 1))\n",
       "    (1): ReLU()\n",
       "    (2): Conv2d(10, 10, kernel_size=(3, 3), stride=(1, 1), padding=(1, 1))\n",
       "    (3): ReLU()\n",
       "    (4): MaxPool2d(kernel_size=2, stride=2, padding=0, dilation=1, ceil_mode=False)\n",
       "  )\n",
       "  (classifier): Sequential(\n",
       "    (0): Flatten(start_dim=1, end_dim=-1)\n",
       "    (1): Linear(in_features=490, out_features=10, bias=True)\n",
       "  )\n",
       ")"
      ]
     },
     "execution_count": 25,
     "metadata": {},
     "output_type": "execute_result"
    }
   ],
   "source": [
    "# create the model on cpu\n",
    "model_cpu= MnistModel(input_shape=1,\n",
    "                      hidden_units=10,\n",
    "                      output_shape=10).to(\"cpu\")\n",
    "model_cpu"
   ]
  },
  {
   "cell_type": "code",
   "execution_count": 26,
   "id": "daf47b55-bb6b-4562-9d34-60b8848b3259",
   "metadata": {},
   "outputs": [],
   "source": [
    "# Setup loss and optimizer on CPU\n",
    "loss_fn=nn.CrossEntropyLoss()\n",
    "\n",
    "optimizer=torch.optim.SGD(params=model_cpu.parameters(),\n",
    "                          lr=0.1)"
   ]
  },
  {
   "cell_type": "code",
   "execution_count": 27,
   "id": "d2292e83-6ea9-4321-a576-993174ef39e1",
   "metadata": {},
   "outputs": [
    {
     "name": "stderr",
     "output_type": "stream",
     "text": [
      "C:\\Users\\Shibu.AI-SERVER\\.conda\\envs\\shibu_env1\\Lib\\site-packages\\tqdm\\auto.py:21: TqdmWarning: IProgress not found. Please update jupyter and ipywidgets. See https://ipywidgets.readthedocs.io/en/stable/user_install.html\n",
      "  from .autonotebook import tqdm as notebook_tqdm\n",
      "  0%|                                                                                            | 0/5 [00:00<?, ?it/s]"
     ]
    },
    {
     "name": "stdout",
     "output_type": "stream",
     "text": [
      "Epochs: 0\n",
      "------\n",
      "\n",
      "Looked at: 0/60000 samples\n",
      "Looked at: 12800/60000 samples\n",
      "Looked at: 25600/60000 samples\n",
      "Looked at: 38400/60000 samples\n",
      "Looked at: 51200/60000 samples\n",
      "Train loss: 0.2615 | Train acc: 91.36%\n"
     ]
    },
    {
     "name": "stderr",
     "output_type": "stream",
     "text": [
      " 20%|████████████████▊                                                                   | 1/5 [00:14<00:58, 14.63s/it]"
     ]
    },
    {
     "name": "stdout",
     "output_type": "stream",
     "text": [
      "Test loss: 0.0781 | Test acc: 97.52%\n",
      "\n",
      "Epochs: 1\n",
      "------\n",
      "\n",
      "Looked at: 0/60000 samples\n",
      "Looked at: 12800/60000 samples\n",
      "Looked at: 25600/60000 samples\n",
      "Looked at: 38400/60000 samples\n",
      "Looked at: 51200/60000 samples\n",
      "Train loss: 0.0746 | Train acc: 97.60%\n"
     ]
    },
    {
     "name": "stderr",
     "output_type": "stream",
     "text": [
      " 40%|█████████████████████████████████▌                                                  | 2/5 [00:32<00:50, 16.69s/it]"
     ]
    },
    {
     "name": "stdout",
     "output_type": "stream",
     "text": [
      "Test loss: 0.0547 | Test acc: 98.34%\n",
      "\n",
      "Epochs: 2\n",
      "------\n",
      "\n",
      "Looked at: 0/60000 samples\n",
      "Looked at: 12800/60000 samples\n",
      "Looked at: 25600/60000 samples\n",
      "Looked at: 38400/60000 samples\n",
      "Looked at: 51200/60000 samples\n",
      "Train loss: 0.0570 | Train acc: 98.18%\n"
     ]
    },
    {
     "name": "stderr",
     "output_type": "stream",
     "text": [
      " 60%|██████████████████████████████████████████████████▍                                 | 3/5 [00:48<00:32, 16.35s/it]"
     ]
    },
    {
     "name": "stdout",
     "output_type": "stream",
     "text": [
      "Test loss: 0.0555 | Test acc: 98.29%\n",
      "\n",
      "Epochs: 3\n",
      "------\n",
      "\n",
      "Looked at: 0/60000 samples\n",
      "Looked at: 12800/60000 samples\n",
      "Looked at: 25600/60000 samples\n",
      "Looked at: 38400/60000 samples\n",
      "Looked at: 51200/60000 samples\n",
      "Train loss: 0.0480 | Train acc: 98.51%\n"
     ]
    },
    {
     "name": "stderr",
     "output_type": "stream",
     "text": [
      " 80%|███████████████████████████████████████████████████████████████████▏                | 4/5 [01:04<00:16, 16.19s/it]"
     ]
    },
    {
     "name": "stdout",
     "output_type": "stream",
     "text": [
      "Test loss: 0.0479 | Test acc: 98.35%\n",
      "\n",
      "Epochs: 4\n",
      "------\n",
      "\n",
      "Looked at: 0/60000 samples\n",
      "Looked at: 12800/60000 samples\n",
      "Looked at: 25600/60000 samples\n",
      "Looked at: 38400/60000 samples\n",
      "Looked at: 51200/60000 samples\n",
      "Train loss: 0.0424 | Train acc: 98.68%\n"
     ]
    },
    {
     "name": "stderr",
     "output_type": "stream",
     "text": [
      "100%|████████████████████████████████████████████████████████████████████████████████████| 5/5 [01:19<00:00, 15.87s/it]"
     ]
    },
    {
     "name": "stdout",
     "output_type": "stream",
     "text": [
      "Test loss: 0.0404 | Test acc: 98.68%\n",
      "\n",
      "Total time on cpu: 79.372 seconds\n"
     ]
    },
    {
     "name": "stderr",
     "output_type": "stream",
     "text": [
      "\n"
     ]
    }
   ],
   "source": [
    "# Train the model on CPU\n",
    "torch.manual_seed(42)\n",
    "\n",
    "# set epochs\n",
    "epochs=5\n",
    "\n",
    "from timeit import default_timer as timer\n",
    "from tqdm.auto import tqdm\n",
    "\n",
    "train_time_start_on_cpu=timer()\n",
    "\n",
    "for epoch in tqdm(range(epochs)):\n",
    "    print(f\"Epochs: {epoch}\\n------\\n\")\n",
    "    train_step(model=model_cpu,\n",
    "               data_loader=train_dataloader,\n",
    "               loss_fn=loss_fn,\n",
    "               optimizer=optimizer,\n",
    "               accuracy_fn=accuracy_fn,\n",
    "               device=\"cpu\")\n",
    "    test_step(model=model_cpu,\n",
    "              data_loader=test_dataloader,\n",
    "              loss_fn=loss_fn,\n",
    "              accuracy_fn=accuracy_fn,\n",
    "              device=\"cpu\")\n",
    "\n",
    "train_time_end_on_cpu=timer()\n",
    "\n",
    "# Calculate print time fn\n",
    "total_train_time_model_cpu=print_train_time(start=train_time_start_on_cpu,\n",
    "                                            end=train_time_end_on_cpu,\n",
    "                                            device=str(next(model_cpu.parameters()).device))"
   ]
  },
  {
   "cell_type": "code",
   "execution_count": 28,
   "id": "43141297-993a-43f6-88f0-0e1c380ee092",
   "metadata": {},
   "outputs": [
    {
     "data": {
      "text/plain": [
       "MnistModel(\n",
       "  (conv_block_1): Sequential(\n",
       "    (0): Conv2d(1, 10, kernel_size=(3, 3), stride=(1, 1), padding=(1, 1))\n",
       "    (1): ReLU()\n",
       "    (2): Conv2d(10, 10, kernel_size=(3, 3), stride=(1, 1), padding=(1, 1))\n",
       "    (3): ReLU()\n",
       "    (4): MaxPool2d(kernel_size=2, stride=2, padding=0, dilation=1, ceil_mode=False)\n",
       "  )\n",
       "  (conv_block_2): Sequential(\n",
       "    (0): Conv2d(10, 10, kernel_size=(3, 3), stride=(1, 1), padding=(1, 1))\n",
       "    (1): ReLU()\n",
       "    (2): Conv2d(10, 10, kernel_size=(3, 3), stride=(1, 1), padding=(1, 1))\n",
       "    (3): ReLU()\n",
       "    (4): MaxPool2d(kernel_size=2, stride=2, padding=0, dilation=1, ceil_mode=False)\n",
       "  )\n",
       "  (classifier): Sequential(\n",
       "    (0): Flatten(start_dim=1, end_dim=-1)\n",
       "    (1): Linear(in_features=490, out_features=10, bias=True)\n",
       "  )\n",
       ")"
      ]
     },
     "execution_count": 28,
     "metadata": {},
     "output_type": "execute_result"
    }
   ],
   "source": [
    "# Create a model on GPU\n",
    "model_GPU=MnistModel(input_shape=1,\n",
    "                     hidden_units=10,\n",
    "                     output_shape=len(class_names)).to(device)\n",
    "model_GPU"
   ]
  },
  {
   "cell_type": "code",
   "execution_count": 29,
   "id": "9bc6e5f1-94a2-4c61-899d-87d0d2e11a7c",
   "metadata": {},
   "outputs": [],
   "source": [
    "# Setup loss / optimizer fn on GPU\n",
    "loss_fn=nn.CrossEntropyLoss()\n",
    "\n",
    "optimizer=torch.optim.SGD(params=model_GPU.parameters(),\n",
    "                          lr=0.1)"
   ]
  },
  {
   "cell_type": "code",
   "execution_count": 30,
   "id": "411c85a8-d3f9-4e33-9e02-45deb4fef03d",
   "metadata": {},
   "outputs": [
    {
     "name": "stderr",
     "output_type": "stream",
     "text": [
      "  0%|                                                                                            | 0/5 [00:00<?, ?it/s]"
     ]
    },
    {
     "name": "stdout",
     "output_type": "stream",
     "text": [
      "Epoch: 0\n",
      "-------\n",
      "\n",
      "Looked at: 0/60000 samples\n",
      "Looked at: 12800/60000 samples\n",
      "Looked at: 25600/60000 samples\n",
      "Looked at: 38400/60000 samples\n",
      "Looked at: 51200/60000 samples\n",
      "Train loss: 0.3195 | Train acc: 89.57%\n"
     ]
    },
    {
     "name": "stderr",
     "output_type": "stream",
     "text": [
      " 20%|████████████████▊                                                                   | 1/5 [00:11<00:46, 11.67s/it]"
     ]
    },
    {
     "name": "stdout",
     "output_type": "stream",
     "text": [
      "Test loss: 0.0707 | Test acc: 97.89%\n",
      "\n",
      "Epoch: 1\n",
      "-------\n",
      "\n",
      "Looked at: 0/60000 samples\n",
      "Looked at: 12800/60000 samples\n",
      "Looked at: 25600/60000 samples\n",
      "Looked at: 38400/60000 samples\n",
      "Looked at: 51200/60000 samples\n",
      "Train loss: 0.0762 | Train acc: 97.64%\n"
     ]
    },
    {
     "name": "stderr",
     "output_type": "stream",
     "text": [
      " 40%|█████████████████████████████████▌                                                  | 2/5 [00:22<00:33, 11.31s/it]"
     ]
    },
    {
     "name": "stdout",
     "output_type": "stream",
     "text": [
      "Test loss: 0.0540 | Test acc: 98.18%\n",
      "\n",
      "Epoch: 2\n",
      "-------\n",
      "\n",
      "Looked at: 0/60000 samples\n",
      "Looked at: 12800/60000 samples\n",
      "Looked at: 25600/60000 samples\n",
      "Looked at: 38400/60000 samples\n",
      "Looked at: 51200/60000 samples\n",
      "Train loss: 0.0596 | Train acc: 98.19%\n"
     ]
    },
    {
     "name": "stderr",
     "output_type": "stream",
     "text": [
      " 60%|██████████████████████████████████████████████████▍                                 | 3/5 [00:33<00:22, 11.21s/it]"
     ]
    },
    {
     "name": "stdout",
     "output_type": "stream",
     "text": [
      "Test loss: 0.0520 | Test acc: 98.28%\n",
      "\n",
      "Epoch: 3\n",
      "-------\n",
      "\n",
      "Looked at: 0/60000 samples\n",
      "Looked at: 12800/60000 samples\n",
      "Looked at: 25600/60000 samples\n",
      "Looked at: 38400/60000 samples\n",
      "Looked at: 51200/60000 samples\n",
      "Train loss: 0.0516 | Train acc: 98.35%\n"
     ]
    },
    {
     "name": "stderr",
     "output_type": "stream",
     "text": [
      " 80%|███████████████████████████████████████████████████████████████████▏                | 4/5 [00:44<00:11, 11.18s/it]"
     ]
    },
    {
     "name": "stdout",
     "output_type": "stream",
     "text": [
      "Test loss: 0.0546 | Test acc: 98.25%\n",
      "\n",
      "Epoch: 4\n",
      "-------\n",
      "\n",
      "Looked at: 0/60000 samples\n",
      "Looked at: 12800/60000 samples\n",
      "Looked at: 25600/60000 samples\n",
      "Looked at: 38400/60000 samples\n",
      "Looked at: 51200/60000 samples\n",
      "Train loss: 0.0463 | Train acc: 98.54%\n"
     ]
    },
    {
     "name": "stderr",
     "output_type": "stream",
     "text": [
      "100%|████████████████████████████████████████████████████████████████████████████████████| 5/5 [00:56<00:00, 11.26s/it]"
     ]
    },
    {
     "name": "stdout",
     "output_type": "stream",
     "text": [
      "Test loss: 0.0399 | Test acc: 98.50%\n",
      "\n",
      "Total time on cuda:0: 56.312 seconds\n"
     ]
    },
    {
     "name": "stderr",
     "output_type": "stream",
     "text": [
      "\n"
     ]
    }
   ],
   "source": [
    "# Train the model on GPU\n",
    "# Setup required libaries\n",
    "from tqdm.auto import tqdm\n",
    "from timeit import default_timer as timer\n",
    "\n",
    "# Setup random seed\n",
    "torch.manual_seed(42)\n",
    "torch.cuda.manual_seed(42)\n",
    "\n",
    "# Setup epochs\n",
    "epochs=5\n",
    "\n",
    "# Start timer\n",
    "train_time_start_on_GPU=timer()\n",
    "\n",
    "for epoch in tqdm(range(epochs)):\n",
    "    print(f\"Epoch: {epoch}\\n-------\\n\")\n",
    "    train_step(model=model_GPU,\n",
    "               data_loader=train_dataloader,\n",
    "               loss_fn=loss_fn,\n",
    "               optimizer=optimizer,\n",
    "               accuracy_fn=accuracy_fn,\n",
    "               device=device)\n",
    "    test_step(model=model_GPU,\n",
    "              data_loader=test_dataloader,\n",
    "              loss_fn=loss_fn,\n",
    "              accuracy_fn=accuracy_fn,\n",
    "              device=device)\n",
    "\n",
    "# stop timer\n",
    "train_time_end_on_GPU=timer()\n",
    "\n",
    "# Calculate the total train time on GPU\n",
    "total_train_time_model_GPU=print_train_time(start=train_time_start_on_GPU,\n",
    "                                            end=train_time_end_on_GPU,\n",
    "                                            device=device)"
   ]
  },
  {
   "cell_type": "code",
   "execution_count": 31,
   "id": "1b907230-faca-494f-ab0d-23e2ef89c98d",
   "metadata": {},
   "outputs": [],
   "source": [
    "# Test the model\n",
    "\n",
    "#import required liberies\n",
    "from tqdm.auto import tqdm\n",
    "\n",
    "def eval_model(model:torch.nn.Module,\n",
    "               data_loader:torch.utils.data.DataLoader,\n",
    "               loss_fn:torch.nn.Module,\n",
    "               accuracy_fn:accuracy_fn,\n",
    "               device:torch.device=device):\n",
    "    \n",
    "    loss,acc=0,0\n",
    "    model.eval()\n",
    "    with torch.inference_mode():\n",
    "        for X,y in tqdm(data_loader):\n",
    "\n",
    "            # Put data to target device\n",
    "            X,y=X.to(device),y.to(device)\n",
    "            \n",
    "            # Forward pass\n",
    "            y_pred=model(X)\n",
    "\n",
    "            # loss / acc cals\n",
    "            loss+=loss_fn(y_pred,y)\n",
    "            acc+=accuracy_fn(y_true=y,\n",
    "                             y_pred=y_pred.argmax(dim=1))\n",
    "\n",
    "        loss/=len(data_loader)\n",
    "        acc/=len(data_loader)\n",
    "\n",
    "    return {\"model name\":model.__class__.__name__,\n",
    "            \"model loss\":loss.item(),\n",
    "            \"model acc\":acc}"
   ]
  },
  {
   "cell_type": "code",
   "execution_count": 32,
   "id": "10822b81-cbc0-447f-a359-bdcc1b861a3f",
   "metadata": {},
   "outputs": [
    {
     "name": "stderr",
     "output_type": "stream",
     "text": [
      "100%|███████████████████████████████████████████████████████████████████████████████| 313/313 [00:01<00:00, 194.25it/s]\n",
      "100%|███████████████████████████████████████████████████████████████████████████████| 313/313 [00:01<00:00, 258.20it/s]"
     ]
    },
    {
     "name": "stdout",
     "output_type": "stream",
     "text": [
      "{'model name': 'MnistModel', 'model loss': 0.040352288633584976, 'model acc': 98.68210862619809}\n",
      "{'model name': 'MnistModel', 'model loss': 0.039938077330589294, 'model acc': 98.50239616613419}\n"
     ]
    },
    {
     "name": "stderr",
     "output_type": "stream",
     "text": [
      "\n"
     ]
    }
   ],
   "source": [
    "model_cpu_results=eval_model(model=model_cpu,\n",
    "                             data_loader=test_dataloader,\n",
    "                             loss_fn=loss_fn,\n",
    "                             accuracy_fn=accuracy_fn,\n",
    "                             device=\"cpu\")\n",
    "\n",
    "model_GPU_results=eval_model(model=model_GPU,\n",
    "                             data_loader=test_dataloader,\n",
    "                             loss_fn=loss_fn,\n",
    "                             accuracy_fn=accuracy_fn,\n",
    "                             device=device)\n",
    "print(model_cpu_results)\n",
    "print(model_GPU_results)"
   ]
  },
  {
   "cell_type": "code",
   "execution_count": 33,
   "id": "7c821f84-01b7-48fe-b275-45dc34dd2ef6",
   "metadata": {},
   "outputs": [
    {
     "data": {
      "text/html": [
       "<div>\n",
       "<style scoped>\n",
       "    .dataframe tbody tr th:only-of-type {\n",
       "        vertical-align: middle;\n",
       "    }\n",
       "\n",
       "    .dataframe tbody tr th {\n",
       "        vertical-align: top;\n",
       "    }\n",
       "\n",
       "    .dataframe thead th {\n",
       "        text-align: right;\n",
       "    }\n",
       "</style>\n",
       "<table border=\"1\" class=\"dataframe\">\n",
       "  <thead>\n",
       "    <tr style=\"text-align: right;\">\n",
       "      <th></th>\n",
       "      <th>model name</th>\n",
       "      <th>model loss</th>\n",
       "      <th>model acc</th>\n",
       "    </tr>\n",
       "  </thead>\n",
       "  <tbody>\n",
       "    <tr>\n",
       "      <th>model name</th>\n",
       "      <td>MnistModel</td>\n",
       "      <td>0.040352</td>\n",
       "      <td>98.682109</td>\n",
       "    </tr>\n",
       "    <tr>\n",
       "      <th>model loss</th>\n",
       "      <td>MnistModel</td>\n",
       "      <td>0.040352</td>\n",
       "      <td>98.682109</td>\n",
       "    </tr>\n",
       "    <tr>\n",
       "      <th>model acc</th>\n",
       "      <td>MnistModel</td>\n",
       "      <td>0.040352</td>\n",
       "      <td>98.682109</td>\n",
       "    </tr>\n",
       "  </tbody>\n",
       "</table>\n",
       "</div>"
      ],
      "text/plain": [
       "            model name  model loss  model acc\n",
       "model name  MnistModel    0.040352  98.682109\n",
       "model loss  MnistModel    0.040352  98.682109\n",
       "model acc   MnistModel    0.040352  98.682109"
      ]
     },
     "execution_count": 33,
     "metadata": {},
     "output_type": "execute_result"
    }
   ],
   "source": [
    "import pandas as pd\n",
    "pd.DataFrame(model_cpu_results,model_GPU_results)"
   ]
  },
  {
   "cell_type": "markdown",
   "id": "445e5393-13de-4950-b40b-3ff0a99d746b",
   "metadata": {},
   "source": [
    "## 10. Make predictions using your trained model and visualize at least 5 of them comparing the prediciton to the target label."
   ]
  },
  {
   "cell_type": "code",
   "execution_count": 34,
   "id": "3bf27954-d953-4fc2-a39b-f483abe3d9ab",
   "metadata": {},
   "outputs": [],
   "source": [
    "# Make predictions\n",
    "\n",
    "def make_predictions(model:torch.nn.Module,\n",
    "                     data:list,\n",
    "                     device:torch.device=device):\n",
    "\n",
    "    pred_probs=[]\n",
    "    model.to(device)\n",
    "    model.eval()\n",
    "\n",
    "    with torch.inference_mode():\n",
    "        for sample in data:\n",
    "            # prepare sample to add batch dim to target device\n",
    "            sample=torch.unsqueeze(sample,dim=0).to(device)\n",
    "\n",
    "            # Forward Pass\n",
    "            pred_logits=model(sample)\n",
    "\n",
    "            # logits -> prob predictions\n",
    "            pred_prob=torch.softmax(pred_logits.squeeze(),dim=0)\n",
    "\n",
    "            # Get pred prob off the GPU for futher calculatiosn\n",
    "            pred_probs.append(pred_prob.cpu())\n",
    "\n",
    "    # Stack the pred probs to turn list into a tensor\n",
    "    return torch.stack(pred_probs)"
   ]
  },
  {
   "cell_type": "code",
   "execution_count": 35,
   "id": "3dd332fe-439e-49cc-b210-3d350c8e91ee",
   "metadata": {},
   "outputs": [
    {
     "data": {
      "text/plain": [
       "Dataset MNIST\n",
       "    Number of datapoints: 10000\n",
       "    Root location: data\n",
       "    Split: Test\n",
       "    StandardTransform\n",
       "Transform: ToTensor()"
      ]
     },
     "execution_count": 35,
     "metadata": {},
     "output_type": "execute_result"
    }
   ],
   "source": [
    "test_data"
   ]
  },
  {
   "cell_type": "code",
   "execution_count": 36,
   "id": "d611c1d7-61d7-4c66-aa6a-9ee96cd229cb",
   "metadata": {},
   "outputs": [
    {
     "data": {
      "text/plain": [
       "(torch.Size([1, 28, 28]), 7)"
      ]
     },
     "execution_count": 36,
     "metadata": {},
     "output_type": "execute_result"
    }
   ],
   "source": [
    "img,label=test_data[0][:5]\n",
    "img.shape,label"
   ]
  },
  {
   "cell_type": "code",
   "execution_count": 37,
   "id": "efd0e939-5609-4af6-8393-c87a3d021be9",
   "metadata": {},
   "outputs": [
    {
     "data": {
      "text/plain": [
       "[2, 1, 2, 4, 6]"
      ]
     },
     "execution_count": 37,
     "metadata": {},
     "output_type": "execute_result"
    }
   ],
   "source": [
    "import random\n",
    "random.seed(42)\n",
    "test_samples=[]\n",
    "test_labels=[]\n",
    "for sample,label in random.sample(list(test_data),k=5):\n",
    "    test_samples.append(sample)\n",
    "    test_labels.append(label)\n",
    "\n",
    "test_labels"
   ]
  },
  {
   "cell_type": "code",
   "execution_count": 38,
   "id": "dc079765-1acb-4bb3-9cda-b0a02cc4f94e",
   "metadata": {},
   "outputs": [],
   "source": [
    "predictions=make_predictions(model=model_cpu,\n",
    "                                    data=test_samples,\n",
    "                                    device=device)"
   ]
  },
  {
   "cell_type": "code",
   "execution_count": 39,
   "id": "add313b9-6d3f-453e-90e3-f20e10baee78",
   "metadata": {},
   "outputs": [
    {
     "data": {
      "text/plain": [
       "tensor([2, 1, 2, 4, 6])"
      ]
     },
     "execution_count": 39,
     "metadata": {},
     "output_type": "execute_result"
    }
   ],
   "source": [
    "# Prediction label on cpu\n",
    "predictions_labels=torch.argmax(predictions,dim=1)\n",
    "predictions_labels"
   ]
  },
  {
   "cell_type": "code",
   "execution_count": 40,
   "id": "6b6511d8-d557-4d0d-a942-32efdc0c3399",
   "metadata": {},
   "outputs": [
    {
     "data": {
      "text/plain": [
       "[2, 1, 2, 4, 6]"
      ]
     },
     "execution_count": 40,
     "metadata": {},
     "output_type": "execute_result"
    }
   ],
   "source": [
    "test_labels"
   ]
  },
  {
   "cell_type": "code",
   "execution_count": 41,
   "id": "99ec9864-389c-4c35-bbf8-2ca2390783fb",
   "metadata": {},
   "outputs": [
    {
     "data": {
      "image/png": "[encoded data removed]",
      "text/plain": [
       "<Figure size 500x500 with 1 Axes>"
      ]
     },
     "metadata": {},
     "output_type": "display_data"
    },
    {
     "data": {
      "image/png": "[encoded data removed]",
      "text/plain": [
       "<Figure size 500x500 with 1 Axes>"
      ]
     },
     "metadata": {},
     "output_type": "display_data"
    },
    {
     "data": {
      "image/png": "[encoded data removed]",
      "text/plain": [
       "<Figure size 500x500 with 1 Axes>"
      ]
     },
     "metadata": {},
     "output_type": "display_data"
    },
    {
     "data": {
      "image/png": "[encoded data removed]",
      "text/plain": [
       "<Figure size 500x500 with 1 Axes>"
      ]
     },
     "metadata": {},
     "output_type": "display_data"
    },
    {
     "data": {
      "image/png": "[encoded data removed]",
      "text/plain": [
       "<Figure size 500x500 with 1 Axes>"
      ]
     },
     "metadata": {},
     "output_type": "display_data"
    }
   ],
   "source": [
    "# Visualize the data\n",
    "for i in range(5):\n",
    "    # Get img,labels from the test data\n",
    "    img,label=test_data[i][0],test_data[i][1]\n",
    "\n",
    "    #Make prediction on image\n",
    "    model_pred_logits=model_GPU(img.unsqueeze(dim=0).to(device))\n",
    "    model_pred_probs=torch.softmax(model_pred_logits,dim=1)\n",
    "    model_pred_label=torch.argmax(model_pred_probs,dim=1)\n",
    "\n",
    "    # Plot the img and predictions\n",
    "    plt.figure(figsize=(5,5))\n",
    "    plt.imshow(img.squeeze(),cmap=\"gray\")\n",
    "    plt.title(f\"Truth: {label} | Pred: {model_pred_label.cpu().item()}\")\n",
    "    plt.axis(False)"
   ]
  },
  {
   "cell_type": "markdown",
   "id": "b3777ac5-7013-48cc-a674-66486f2a590e",
   "metadata": {},
   "source": [
    "## 11. Plot a confusion matrix comparing your model's predictions to the truth labels."
   ]
  },
  {
   "cell_type": "code",
   "execution_count": 42,
   "id": "9221c2a0-8efa-4a2e-826b-8cf7d7b26e1a",
   "metadata": {},
   "outputs": [
    {
     "name": "stderr",
     "output_type": "stream",
     "text": [
      "313it [00:01, 266.78it/s]\n"
     ]
    },
    {
     "data": {
      "text/plain": [
       "10000"
      ]
     },
     "execution_count": 42,
     "metadata": {},
     "output_type": "execute_result"
    }
   ],
   "source": [
    "# Make prediction across the test data\n",
    "from tqdm.auto import tqdm\n",
    "y_preds=[]\n",
    "model_GPU.eval()\n",
    "with torch.inference_mode():\n",
    "    for batch,(X,y) in tqdm(enumerate(test_dataloader)):\n",
    "        X,y=X.to(device),y.to(device)\n",
    "        y_pred_logits=model_GPU(X)\n",
    "        y_pred_labels=torch.argmax(torch.softmax(y_pred_logits,dim=1),dim=1)\n",
    "        y_preds.append(y_pred_labels)\n",
    "    y_preds=torch.cat(y_preds).cpu()\n",
    "\n",
    "len(y_preds)"
   ]
  },
  {
   "cell_type": "code",
   "execution_count": 43,
   "id": "4de2f992-0618-4028-9328-0d0eb9dc3d06",
   "metadata": {},
   "outputs": [
    {
     "data": {
      "image/png": "[encoded data removed]",
      "text/plain": [
       "<Figure size 1000x700 with 1 Axes>"
      ]
     },
     "metadata": {},
     "output_type": "display_data"
    }
   ],
   "source": [
    "# Setup confusion matrix\n",
    "from torchmetrics import ConfusionMatrix\n",
    "from mlxtend.plotting import plot_confusion_matrix\n",
    "\n",
    "confmat=ConfusionMatrix(task=\"multiclass\", num_classes=len(class_names))\n",
    "confmat_tensor=confmat(preds=y_preds,target=test_data.targets)\n",
    "\n",
    "# Plot the confusion matrix\n",
    "fix,ax=plot_confusion_matrix(conf_mat=confmat_tensor.numpy(),\n",
    "                             class_names=class_names,\n",
    "                             figsize=(10,7))"
   ]
  },
  {
   "cell_type": "markdown",
   "id": "1d0f624c-03de-4d61-8542-5b3fab0a2185",
   "metadata": {},
   "source": [
    "## 12. Create a random tensor of shape [1, 3, 64, 64] and pass it through a nn.Conv2d() layer with various hyperparameter settings (these can be any settings you choose), what do you notice if the kernel_size parameter goes up and down?"
   ]
  },
  {
   "cell_type": "code",
   "execution_count": 44,
   "id": "702fc4b6-6f32-4a90-b0dd-a7b66a7f6391",
   "metadata": {},
   "outputs": [
    {
     "data": {
      "text/plain": [
       "torch.Size([1, 3, 64, 64])"
      ]
     },
     "execution_count": 44,
     "metadata": {},
     "output_type": "execute_result"
    }
   ],
   "source": [
    "random_tensor=torch.rand([1,3,64,64])\n",
    "random_tensor.shape"
   ]
  },
  {
   "cell_type": "code",
   "execution_count": 45,
   "id": "1333e7bb-fd7c-4e6c-9c89-9164a29ecff1",
   "metadata": {},
   "outputs": [
    {
     "data": {
      "text/plain": [
       "torch.Size([1, 64, 32, 32])"
      ]
     },
     "execution_count": 45,
     "metadata": {},
     "output_type": "execute_result"
    }
   ],
   "source": [
    "conv_layer=nn.Conv2d(in_channels=3,\n",
    "                     out_channels=64,\n",
    "                     kernel_size=3,\n",
    "                     stride=2,\n",
    "                     padding=1)\n",
    "random_tensor_through_conv_layer=conv_layer(random_tensor)\n",
    "random_tensor_through_conv_layer.shape"
   ]
  },
  {
   "cell_type": "markdown",
   "id": "52464f53-5e87-48b7-b00b-eb5a0be1f1fb",
   "metadata": {},
   "source": [
    "## 13. Use a model similar to the trained model_2 from notebook 03 to make predictions on the test torchvision.datasets.FashionMNIST dataset.\n",
    "* Then plot some predictions where the model was wrong alongside what the label of the image should've been.\n",
    "* After visualing these predictions do you think it's more of a modelling error or a data error?\n",
    "* As in, could the model do better or are the labels of the data too close to each other (e.g. a \"Shirt\" label is too close to \"T-shirt/top\")?"
   ]
  },
  {
   "cell_type": "code",
   "execution_count": 46,
   "id": "7923701a-1eeb-4b5a-a87e-fa34ba0c0390",
   "metadata": {},
   "outputs": [
    {
     "data": {
      "text/plain": [
       "(60000, 10000)"
      ]
     },
     "execution_count": 46,
     "metadata": {},
     "output_type": "execute_result"
    }
   ],
   "source": [
    "from torchvision.datasets import FashionMNIST\n",
    "from torchvision.transforms import ToTensor\n",
    "\n",
    "Fashion_Mnist_train_data=FashionMNIST(root=\"data_1\",\n",
    "                                      train=True,\n",
    "                                      download=True,\n",
    "                                      transform=ToTensor(),\n",
    "                                      target_transform=None)\n",
    "\n",
    "Fashion_Mnist_test_data=FashionMNIST(root=\"data_1\",\n",
    "                                     train=False,\n",
    "                                     download=True,\n",
    "                                     transform=ToTensor(),\n",
    "                                     target_transform=None)\n",
    "\n",
    "len(Fashion_Mnist_train_data),len(Fashion_Mnist_test_data)"
   ]
  },
  {
   "cell_type": "code",
   "execution_count": 47,
   "id": "0a56a7fb-feb2-453d-8449-7bbf81cb4b78",
   "metadata": {},
   "outputs": [
    {
     "data": {
      "text/plain": [
       "(1875, 313)"
      ]
     },
     "execution_count": 47,
     "metadata": {},
     "output_type": "execute_result"
    }
   ],
   "source": [
    "from torch.utils.data import DataLoader\n",
    "\n",
    "Fashion_Mnist_train_dataloader=DataLoader(dataset=Fashion_Mnist_train_data,\n",
    "                                          batch_size=32,\n",
    "                                          shuffle=True)\n",
    "\n",
    "Fashion_Mnist_test_dataloader=DataLoader(dataset=Fashion_Mnist_test_data,\n",
    "                                         batch_size=32,\n",
    "                                         shuffle=False)\n",
    "len(Fashion_Mnist_train_dataloader),len(Fashion_Mnist_test_dataloader)"
   ]
  },
  {
   "cell_type": "code",
   "execution_count": 48,
   "id": "136b8d75-6a30-4e83-a0e0-df6f939d2917",
   "metadata": {},
   "outputs": [
    {
     "data": {
      "text/plain": [
       "['T-shirt/top',\n",
       " 'Trouser',\n",
       " 'Pullover',\n",
       " 'Dress',\n",
       " 'Coat',\n",
       " 'Sandal',\n",
       " 'Shirt',\n",
       " 'Sneaker',\n",
       " 'Bag',\n",
       " 'Ankle boot']"
      ]
     },
     "execution_count": 48,
     "metadata": {},
     "output_type": "execute_result"
    }
   ],
   "source": [
    "Fashion_Mnist_class_names=Fashion_Mnist_train_data.classes\n",
    "Fashion_Mnist_class_names"
   ]
  },
  {
   "cell_type": "code",
   "execution_count": 49,
   "id": "f898deca-a15e-44b8-a6db-8685087d6294",
   "metadata": {},
   "outputs": [
    {
     "data": {
      "text/plain": [
       "MnistModel(\n",
       "  (conv_block_1): Sequential(\n",
       "    (0): Conv2d(1, 10, kernel_size=(3, 3), stride=(1, 1), padding=(1, 1))\n",
       "    (1): ReLU()\n",
       "    (2): Conv2d(10, 10, kernel_size=(3, 3), stride=(1, 1), padding=(1, 1))\n",
       "    (3): ReLU()\n",
       "    (4): MaxPool2d(kernel_size=2, stride=2, padding=0, dilation=1, ceil_mode=False)\n",
       "  )\n",
       "  (conv_block_2): Sequential(\n",
       "    (0): Conv2d(10, 10, kernel_size=(3, 3), stride=(1, 1), padding=(1, 1))\n",
       "    (1): ReLU()\n",
       "    (2): Conv2d(10, 10, kernel_size=(3, 3), stride=(1, 1), padding=(1, 1))\n",
       "    (3): ReLU()\n",
       "    (4): MaxPool2d(kernel_size=2, stride=2, padding=0, dilation=1, ceil_mode=False)\n",
       "  )\n",
       "  (classifier): Sequential(\n",
       "    (0): Flatten(start_dim=1, end_dim=-1)\n",
       "    (1): Linear(in_features=490, out_features=10, bias=True)\n",
       "  )\n",
       ")"
      ]
     },
     "execution_count": 49,
     "metadata": {},
     "output_type": "execute_result"
    }
   ],
   "source": [
    "model_2=MnistModel(input_shape=1,\n",
    "                   hidden_units=10,\n",
    "                   output_shape=len(Fashion_Mnist_class_names)).to(device)\n",
    "model_2"
   ]
  },
  {
   "cell_type": "code",
   "execution_count": 50,
   "id": "7c24ab22-751f-4d11-a153-de74113d57a8",
   "metadata": {},
   "outputs": [],
   "source": [
    "# Setup loss / optimizer\n",
    "loss_fn=nn.CrossEntropyLoss()\n",
    "\n",
    "optimizer_2=torch.optim.SGD(params=model_2.parameters(),\n",
    "                          lr=0.1)"
   ]
  },
  {
   "cell_type": "code",
   "execution_count": 51,
   "id": "b3e6a319-3839-420f-9c85-c163fbb5699c",
   "metadata": {},
   "outputs": [
    {
     "name": "stderr",
     "output_type": "stream",
     "text": [
      "  0%|                                                                                            | 0/5 [00:00<?, ?it/s]"
     ]
    },
    {
     "name": "stdout",
     "output_type": "stream",
     "text": [
      "Epochs: 0\n",
      "-------\n",
      "\n",
      "Looked at: 0/60000 samples\n",
      "Looked at: 12800/60000 samples\n",
      "Looked at: 25600/60000 samples\n",
      "Looked at: 38400/60000 samples\n",
      "Looked at: 51200/60000 samples\n",
      "Train loss: 0.5560 | Train acc: 80.18%\n"
     ]
    },
    {
     "name": "stderr",
     "output_type": "stream",
     "text": [
      " 20%|████████████████▊                                                                   | 1/5 [00:11<00:45, 11.25s/it]"
     ]
    },
    {
     "name": "stdout",
     "output_type": "stream",
     "text": [
      "Test loss: 0.3787 | Test acc: 86.19%\n",
      "\n",
      "Epochs: 1\n",
      "-------\n",
      "\n",
      "Looked at: 0/60000 samples\n",
      "Looked at: 12800/60000 samples\n",
      "Looked at: 25600/60000 samples\n",
      "Looked at: 38400/60000 samples\n",
      "Looked at: 51200/60000 samples\n",
      "Train loss: 0.3448 | Train acc: 87.62%\n"
     ]
    },
    {
     "name": "stderr",
     "output_type": "stream",
     "text": [
      " 40%|█████████████████████████████████▌                                                  | 2/5 [00:22<00:33, 11.33s/it]"
     ]
    },
    {
     "name": "stdout",
     "output_type": "stream",
     "text": [
      "Test loss: 0.3236 | Test acc: 88.44%\n",
      "\n",
      "Epochs: 2\n",
      "-------\n",
      "\n",
      "Looked at: 0/60000 samples\n",
      "Looked at: 12800/60000 samples\n",
      "Looked at: 25600/60000 samples\n",
      "Looked at: 38400/60000 samples\n",
      "Looked at: 51200/60000 samples\n",
      "Train loss: 0.3127 | Train acc: 88.68%\n"
     ]
    },
    {
     "name": "stderr",
     "output_type": "stream",
     "text": [
      " 60%|██████████████████████████████████████████████████▍                                 | 3/5 [00:33<00:22, 11.25s/it]"
     ]
    },
    {
     "name": "stdout",
     "output_type": "stream",
     "text": [
      "Test loss: 0.3181 | Test acc: 88.43%\n",
      "\n",
      "Epochs: 3\n",
      "-------\n",
      "\n",
      "Looked at: 0/60000 samples\n",
      "Looked at: 12800/60000 samples\n",
      "Looked at: 25600/60000 samples\n",
      "Looked at: 38400/60000 samples\n",
      "Looked at: 51200/60000 samples\n",
      "Train loss: 0.2947 | Train acc: 89.30%\n"
     ]
    },
    {
     "name": "stderr",
     "output_type": "stream",
     "text": [
      " 80%|███████████████████████████████████████████████████████████████████▏                | 4/5 [00:44<00:11, 11.17s/it]"
     ]
    },
    {
     "name": "stdout",
     "output_type": "stream",
     "text": [
      "Test loss: 0.2989 | Test acc: 89.30%\n",
      "\n",
      "Epochs: 4\n",
      "-------\n",
      "\n",
      "Looked at: 0/60000 samples\n",
      "Looked at: 12800/60000 samples\n",
      "Looked at: 25600/60000 samples\n",
      "Looked at: 38400/60000 samples\n",
      "Looked at: 51200/60000 samples\n",
      "Train loss: 0.2803 | Train acc: 89.76%\n"
     ]
    },
    {
     "name": "stderr",
     "output_type": "stream",
     "text": [
      "100%|████████████████████████████████████████████████████████████████████████████████████| 5/5 [00:55<00:00, 11.19s/it]"
     ]
    },
    {
     "name": "stdout",
     "output_type": "stream",
     "text": [
      "Test loss: 0.3075 | Test acc: 88.51%\n",
      "\n",
      "Total time on cuda:0: 55.978 seconds\n"
     ]
    },
    {
     "name": "stderr",
     "output_type": "stream",
     "text": [
      "\n"
     ]
    }
   ],
   "source": [
    "# Setup training\n",
    "from tqdm.auto import tqdm\n",
    "from timeit import default_timer as timer\n",
    "\n",
    "epochs=5\n",
    "FashionMnist_train_start_time=timer()\n",
    "\n",
    "for epoch in tqdm(range(epochs)):\n",
    "    print(f\"Epochs: {epoch}\\n-------\\n\")\n",
    "    train_step(model=model_2,\n",
    "               data_loader=Fashion_Mnist_train_dataloader,\n",
    "               loss_fn=loss_fn,\n",
    "               optimizer=optimizer_2,\n",
    "               accuracy_fn=accuracy_fn,\n",
    "               device=device)\n",
    "    test_step(model=model_2,\n",
    "              data_loader=Fashion_Mnist_test_dataloader,\n",
    "              loss_fn=loss_fn,\n",
    "              accuracy_fn=accuracy_fn,\n",
    "              device=device)\n",
    "\n",
    "FashionMnist_train_end_time=timer()\n",
    "\n",
    "total_train_time_model_2=print_train_time(start=FashionMnist_train_start_time,\n",
    "                                          end=FashionMnist_train_end_time,\n",
    "                                          device=device)"
   ]
  },
  {
   "cell_type": "code",
   "execution_count": 52,
   "id": "a777cec5-9576-4371-be63-b94630d7dd7f",
   "metadata": {},
   "outputs": [
    {
     "name": "stderr",
     "output_type": "stream",
     "text": [
      "100%|███████████████████████████████████████████████████████████████████████████████| 313/313 [00:01<00:00, 273.36it/s]\n"
     ]
    },
    {
     "data": {
      "text/plain": [
       "10000"
      ]
     },
     "execution_count": 52,
     "metadata": {},
     "output_type": "execute_result"
    }
   ],
   "source": [
    "# Make prediction with model_2\n",
    "from tqdm.auto import tqdm\n",
    "\n",
    "test_preds=[]\n",
    "model_2.eval()\n",
    "with torch.inference_mode():\n",
    "    for X_test,y_test in tqdm(Fashion_Mnist_test_dataloader):\n",
    "        y_logits=model_2(X_test.to(device))\n",
    "        y_pred_probs=torch.softmax(y_logits,dim=1)\n",
    "        y_pred_labels=torch.argmax(y_pred_probs,dim=1)\n",
    "        test_preds.append(y_pred_labels)\n",
    "    test_preds=torch.cat(test_preds).cpu()\n",
    "\n",
    "len(test_preds)"
   ]
  },
  {
   "cell_type": "code",
   "execution_count": 53,
   "id": "49097b71-99b6-4c1f-87d4-e6ac7d35269c",
   "metadata": {},
   "outputs": [
    {
     "data": {
      "text/plain": [
       "1150"
      ]
     },
     "execution_count": 53,
     "metadata": {},
     "output_type": "execute_result"
    }
   ],
   "source": [
    "# Get wrong prediction indexes\n",
    "import numpy as np\n",
    "wrong_pred_indexes=np.where(test_preds != Fashion_Mnist_test_data.targets)[0]\n",
    "len(wrong_pred_indexes)"
   ]
  },
  {
   "cell_type": "code",
   "execution_count": 54,
   "id": "9b8871c8-cf9b-423f-94ff-ca1f8b60354f",
   "metadata": {},
   "outputs": [
    {
     "data": {
      "image/png": "[encoded data removed]",
      "text/plain": [
       "<Figure size 1000x1000 with 9 Axes>"
      ]
     },
     "metadata": {},
     "output_type": "display_data"
    }
   ],
   "source": [
    "# select random 9 wrong predictions and plot them\n",
    "import random\n",
    "random_selection=random.sample(list(wrong_pred_indexes),k=9)\n",
    "\n",
    "plt.figure(figsize=(10,10))\n",
    "for i, idx in enumerate(random_selection):\n",
    "  # Get true and pred labels\n",
    "  true_label = Fashion_Mnist_class_names[Fashion_Mnist_test_data[idx][1]]\n",
    "  pred_label = Fashion_Mnist_class_names[test_preds[idx]]\n",
    "\n",
    "  # Plot the wrong prediction with its original label\n",
    "  plt.subplot(3, 3, i+1)\n",
    "  plt.imshow(Fashion_Mnist_test_data[idx][0].squeeze(), cmap=\"gray\")\n",
    "  plt.title(f\"True: {true_label} | Pred: {pred_label}\", c=\"r\")\n",
    "  plt.axis(False)"
   ]
  },
  {
   "cell_type": "code",
   "execution_count": 56,
   "id": "a2f1c3db-5a17-4bdc-88e5-250c32d1f76f",
   "metadata": {},
   "outputs": [
    {
     "name": "stdout",
     "output_type": "stream",
     "text": [
      "Saving model to: Models\\03_pytorch_computer_vision_exercises_model_GPU\n",
      "Saving model to: Models\\03_pytorch_computer_vision_exercises_model_cpu\n"
     ]
    }
   ],
   "source": [
    "# Save the model\n",
    "from pathlib import Path\n",
    "# Create a model path\n",
    "MODEL_PATH=Path(\"Models\")\n",
    "MODEL_PATH.mkdir(parents=True,\n",
    "                 exist_ok=True)\n",
    "\n",
    "# Create a model name\n",
    "MODEL_NAME_1=\"03_pytorch_computer_vision_exercises_model_GPU\"\n",
    "MODEL_NAME_2=\"03_pytorch_computer_vision_exercises_model_cpu\"\n",
    "MODEL_SAVE_PATH_GPU=MODEL_PATH / MODEL_NAME_1\n",
    "MODEL_SAVE_PATH_CPU=MODEL_PATH / MODEL_NAME_2\n",
    "\n",
    "# Save the model_GPU\n",
    "print(f\"Saving model to: {MODEL_SAVE_PATH_GPU}\")\n",
    "torch.save(obj=model_GPU.state_dict(),\n",
    "           f=MODEL_SAVE_PATH_GPU)\n",
    "\n",
    "print(f\"Saving model to: {MODEL_SAVE_PATH_CPU}\")\n",
    "torch.save(obj=model_cpu.state_dict(),\n",
    "           f=MODEL_SAVE_PATH_CPU)"
   ]
  },
  {
   "cell_type": "code",
   "execution_count": null,
   "id": "699442bf-d327-4555-8963-f3e196fc04a7",
   "metadata": {},
   "outputs": [],
   "source": []
  }
 ],
 "metadata": {
  "kernelspec": {
   "display_name": "Python 3 (ipykernel)",
   "language": "python",
   "name": "python3"
  },
  "language_info": {
   "codemirror_mode": {
    "name": "ipython",
    "version": 3
   },
   "file_extension": ".py",
   "mimetype": "text/x-python",
   "name": "python",
   "nbconvert_exporter": "python",
   "pygments_lexer": "ipython3",
   "version": "3.12.3"
  }
 },
 "nbformat": 4,
 "nbformat_minor": 5
}
